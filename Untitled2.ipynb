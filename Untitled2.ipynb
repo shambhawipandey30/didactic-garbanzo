{
 "cells": [
  {
   "cell_type": "code",
   "execution_count": null,
   "id": "0ab4eb2f-ab0b-4adf-8395-91857e332fdc",
   "metadata": {},
   "outputs": [],
   "source": [
    "SESSION 6"
   ]
  },
  {
   "cell_type": "code",
   "execution_count": null,
   "id": "772f49a7-bc39-4e2c-970a-9e25049f4f6b",
   "metadata": {},
   "outputs": [],
   "source": [
    "                   METHODS AND FUNCTION "
   ]
  },
  {
   "cell_type": "code",
   "execution_count": 1,
   "id": "eefbbdde-261f-4ed5-be8c-f19e6e67edae",
   "metadata": {},
   "outputs": [],
   "source": [
    "mylist = [1,2,3,4]"
   ]
  },
  {
   "cell_type": "code",
   "execution_count": 2,
   "id": "9bd97f0a-206f-4b78-8192-35ead39ef861",
   "metadata": {},
   "outputs": [],
   "source": [
    "mylist.append(4)                                   ADD"
   ]
  },
  {
   "cell_type": "code",
   "execution_count": 3,
   "id": "b1bc962f-806a-4f54-9681-6fc28fa9baf6",
   "metadata": {},
   "outputs": [
    {
     "data": {
      "text/plain": [
       "[1, 2, 3, 4, 4]"
      ]
     },
     "execution_count": 3,
     "metadata": {},
     "output_type": "execute_result"
    }
   ],
   "source": [
    "mylist"
   ]
  },
  {
   "cell_type": "code",
   "execution_count": 4,
   "id": "b11bd756-2801-4716-b1b9-ad36cb26ad73",
   "metadata": {},
   "outputs": [
    {
     "data": {
      "text/plain": [
       "4"
      ]
     },
     "execution_count": 4,
     "metadata": {},
     "output_type": "execute_result"
    }
   ],
   "source": [
    "mylist.pop()                                      REMOVE"
   ]
  },
  {
   "cell_type": "code",
   "execution_count": 5,
   "id": "28734773-96dc-4f10-9450-aa1de52d751e",
   "metadata": {},
   "outputs": [
    {
     "data": {
      "text/plain": [
       "[1, 2, 3, 4]"
      ]
     },
     "execution_count": 5,
     "metadata": {},
     "output_type": "execute_result"
    }
   ],
   "source": [
    "mylist"
   ]
  },
  {
   "cell_type": "code",
   "execution_count": 6,
   "id": "4b7973cf-7db5-4d7d-81c4-67555b486963",
   "metadata": {},
   "outputs": [
    {
     "name": "stdout",
     "output_type": "stream",
     "text": [
      "Help on built-in function insert:\n",
      "\n",
      "insert(index, object, /) method of builtins.list instance\n",
      "    Insert object before index.\n",
      "\n"
     ]
    }
   ],
   "source": [
    "help(mylist.insert)"
   ]
  },
  {
   "cell_type": "code",
   "execution_count": null,
   "id": "becaae93-9400-4956-917d-b766a23e87a3",
   "metadata": {},
   "outputs": [],
   "source": [
    "PYTHON DOCUMENTATION :- https://docs.python.org/3/\n",
    "python 3.6.4"
   ]
  },
  {
   "cell_type": "code",
   "execution_count": null,
   "id": "b7ab7ea3-e42d-4963-bd5e-4ab46e9fec94",
   "metadata": {},
   "outputs": [],
   "source": [
    "                         FUNCTION "
   ]
  },
  {
   "cell_type": "code",
   "execution_count": null,
   "id": "8a6c0a14-d569-4df6-8b53-79515230a438",
   "metadata": {},
   "outputs": [],
   "source": [
    "                        DEF KEYWORD:-  def name_of_function():\n",
    "\n",
    "                       understanding lecture \n",
    "                                          "
   ]
  },
  {
   "cell_type": "code",
   "execution_count": null,
   "id": "a0021cfa-e29e-42de-986d-f7e0650962e8",
   "metadata": {},
   "outputs": [],
   "source": [
    "                         BASIS FUNCTION "
   ]
  },
  {
   "cell_type": "code",
   "execution_count": 10,
   "id": "43ef6cd0-88fd-448b-b715-88085d431944",
   "metadata": {},
   "outputs": [],
   "source": [
    "def say_hello():\n",
    "    print('hello')\n",
    "    print('who')\n",
    "    print('are')\n",
    "    print('you')"
   ]
  },
  {
   "cell_type": "code",
   "execution_count": 11,
   "id": "a77d2ca4-1ca9-4078-baae-69e0e92af66a",
   "metadata": {},
   "outputs": [
    {
     "name": "stdout",
     "output_type": "stream",
     "text": [
      "hello\n",
      "who\n",
      "are\n",
      "you\n"
     ]
    }
   ],
   "source": [
    "say_hello()                                     with"
   ]
  },
  {
   "cell_type": "code",
   "execution_count": 12,
   "id": "d67014d3-b65a-42f0-ba82-b4844ead0ac7",
   "metadata": {},
   "outputs": [
    {
     "data": {
      "text/plain": [
       "<function __main__.say_hello()>"
      ]
     },
     "execution_count": 12,
     "metadata": {},
     "output_type": "execute_result"
    }
   ],
   "source": [
    "say_hello                                        without parenthesis"
   ]
  },
  {
   "cell_type": "code",
   "execution_count": 17,
   "id": "366a0762-a098-44b1-83f4-0567785fb929",
   "metadata": {},
   "outputs": [],
   "source": [
    "def say_hello(name):\n",
    "    print(f'Hello {name}')"
   ]
  },
  {
   "cell_type": "code",
   "execution_count": 18,
   "id": "dddcafd9-6c86-4a73-9fca-c3451d0fbe37",
   "metadata": {},
   "outputs": [
    {
     "name": "stdout",
     "output_type": "stream",
     "text": [
      "Hello shambhawi\n"
     ]
    }
   ],
   "source": [
    "say_hello('shambhawi')"
   ]
  },
  {
   "cell_type": "code",
   "execution_count": 19,
   "id": "3dd1da33-d822-4df3-aaa6-e335addfc567",
   "metadata": {},
   "outputs": [],
   "source": [
    "def add_num(num1,num2):\n",
    "    return num1+num2"
   ]
  },
  {
   "cell_type": "code",
   "execution_count": 21,
   "id": "ee9d16bb-79e1-4426-81b2-a654dbf1a691",
   "metadata": {},
   "outputs": [],
   "source": [
    "result = add_num(10,20)"
   ]
  },
  {
   "cell_type": "code",
   "execution_count": 22,
   "id": "09d531aa-7e2e-4131-b24b-4f1b822bfccd",
   "metadata": {},
   "outputs": [
    {
     "data": {
      "text/plain": [
       "30"
      ]
     },
     "execution_count": 22,
     "metadata": {},
     "output_type": "execute_result"
    }
   ],
   "source": [
    "result"
   ]
  },
  {
   "cell_type": "code",
   "execution_count": null,
   "id": "8f1cc87e-2ce4-4f98-a7ab-b17d95ea8d0c",
   "metadata": {},
   "outputs": [],
   "source": [
    "                                  FUNCTIONS WITH LOGIC "
   ]
  },
  {
   "cell_type": "code",
   "execution_count": 23,
   "id": "df582d93-f402-45e1-9b39-3aec7bbbee7e",
   "metadata": {},
   "outputs": [
    {
     "data": {
      "text/plain": [
       "0"
      ]
     },
     "execution_count": 23,
     "metadata": {},
     "output_type": "execute_result"
    }
   ],
   "source": [
    "2 % 2                                 DIVIDED BY "
   ]
  },
  {
   "cell_type": "code",
   "execution_count": 24,
   "id": "73992a2c-a905-4e98-a590-47fe050f1fae",
   "metadata": {},
   "outputs": [
    {
     "data": {
      "text/plain": [
       "1"
      ]
     },
     "execution_count": 24,
     "metadata": {},
     "output_type": "execute_result"
    }
   ],
   "source": [
    "3%2"
   ]
  },
  {
   "cell_type": "code",
   "execution_count": 25,
   "id": "8a64d8e2-ed98-41fe-8ced-04b673964eca",
   "metadata": {},
   "outputs": [
    {
     "data": {
      "text/plain": [
       "1"
      ]
     },
     "execution_count": 25,
     "metadata": {},
     "output_type": "execute_result"
    }
   ],
   "source": [
    "41 % 40"
   ]
  },
  {
   "cell_type": "code",
   "execution_count": 26,
   "id": "c21ade36-4c06-4861-b1fa-c23793fe03c5",
   "metadata": {},
   "outputs": [
    {
     "data": {
      "text/plain": [
       "True"
      ]
     },
     "execution_count": 26,
     "metadata": {},
     "output_type": "execute_result"
    }
   ],
   "source": [
    "20 % 2 == 0"
   ]
  },
  {
   "cell_type": "code",
   "execution_count": 27,
   "id": "e58689a9-bb54-40a6-93c5-aaeb35d42229",
   "metadata": {},
   "outputs": [
    {
     "data": {
      "text/plain": [
       "False"
      ]
     },
     "execution_count": 27,
     "metadata": {},
     "output_type": "execute_result"
    }
   ],
   "source": [
    "21 % 2 == 0"
   ]
  },
  {
   "cell_type": "code",
   "execution_count": 28,
   "id": "7ae77190-f7b3-43bf-b8d5-d7cdc814268a",
   "metadata": {},
   "outputs": [],
   "source": [
    "def even_check(number):\n",
    "    result = number % 2 == 0\n",
    "    return result\n",
    "    "
   ]
  },
  {
   "cell_type": "code",
   "execution_count": 29,
   "id": "8f9afcf3-9420-476a-ab7d-c7d6f87dd8fe",
   "metadata": {},
   "outputs": [
    {
     "data": {
      "text/plain": [
       "True"
      ]
     },
     "execution_count": 29,
     "metadata": {},
     "output_type": "execute_result"
    }
   ],
   "source": [
    "even_check(20)"
   ]
  },
  {
   "cell_type": "code",
   "execution_count": 30,
   "id": "43afc9c9-61ae-439c-a1f9-72fbe86ef90f",
   "metadata": {},
   "outputs": [
    {
     "data": {
      "text/plain": [
       "False"
      ]
     },
     "execution_count": 30,
     "metadata": {},
     "output_type": "execute_result"
    }
   ],
   "source": [
    "even_check(89)"
   ]
  },
  {
   "cell_type": "code",
   "execution_count": 31,
   "id": "d35d40f1-c365-4549-b9a4-a01926f667b1",
   "metadata": {},
   "outputs": [],
   "source": [
    "# RETURN TRUE IF ANY NUMBER IS EVEN INSIDE A LIST                               "
   ]
  },
  {
   "cell_type": "code",
   "execution_count": 56,
   "id": "69b93743-1995-4968-9239-14d51f7d4dce",
   "metadata": {},
   "outputs": [
    {
     "ename": "SyntaxError",
     "evalue": "invalid syntax (1615817048.py, line 5)",
     "output_type": "error",
     "traceback": [
      "\u001b[1;36m  Cell \u001b[1;32mIn[56], line 5\u001b[1;36m\u001b[0m\n\u001b[1;33m    even_number = [ % 2 == 0]\u001b[0m\n\u001b[1;37m                    ^\u001b[0m\n\u001b[1;31mSyntaxError\u001b[0m\u001b[1;31m:\u001b[0m invalid syntax\n"
     ]
    }
   ],
   "source": [
    "def check_even_list(num_list):\n",
    "    # return all the even numbers in a list \n",
    "\n",
    "    # placeholder variables\n",
    "    even_number = [ % 2 == 0]\n",
    "    \n",
    "    for number in num_list:\n",
    "        if number % 2 == 0:\n",
    "            even_numbers.append(number)\n",
    "            \n",
    "        else:\n",
    "            pass\n",
    "\n",
    "    return "
   ]
  },
  {
   "cell_type": "code",
   "execution_count": 57,
   "id": "ce33a5e3-08ac-4160-8b26-1895ba4d8d12",
   "metadata": {},
   "outputs": [
    {
     "ename": "NameError",
     "evalue": "name 'even_numbers' is not defined",
     "output_type": "error",
     "traceback": [
      "\u001b[1;31m---------------------------------------------------------------------------\u001b[0m",
      "\u001b[1;31mNameError\u001b[0m                                 Traceback (most recent call last)",
      "Cell \u001b[1;32mIn[57], line 1\u001b[0m\n\u001b[1;32m----> 1\u001b[0m check_even_list([\u001b[38;5;241m1\u001b[39m,\u001b[38;5;241m2\u001b[39m,\u001b[38;5;241m3\u001b[39m,\u001b[38;5;241m4\u001b[39m,\u001b[38;5;241m5\u001b[39m])\n",
      "Cell \u001b[1;32mIn[53], line 9\u001b[0m, in \u001b[0;36mcheck_even_list\u001b[1;34m(num_list)\u001b[0m\n\u001b[0;32m      7\u001b[0m \u001b[38;5;28;01mfor\u001b[39;00m number \u001b[38;5;129;01min\u001b[39;00m num_list:\n\u001b[0;32m      8\u001b[0m     \u001b[38;5;28;01mif\u001b[39;00m number \u001b[38;5;241m%\u001b[39m \u001b[38;5;241m2\u001b[39m \u001b[38;5;241m==\u001b[39m \u001b[38;5;241m0\u001b[39m:\n\u001b[1;32m----> 9\u001b[0m         even_numbers\u001b[38;5;241m.\u001b[39mappend(number)\n\u001b[0;32m     11\u001b[0m     \u001b[38;5;28;01melse\u001b[39;00m:\n\u001b[0;32m     12\u001b[0m         \u001b[38;5;28;01mpass\u001b[39;00m\n",
      "\u001b[1;31mNameError\u001b[0m: name 'even_numbers' is not defined"
     ]
    }
   ],
   "source": [
    "check_even_list([1,2,3,4,5])"
   ]
  },
  {
   "cell_type": "code",
   "execution_count": 58,
   "id": "463e34e7-4075-4b99-8083-d0355fc3f625",
   "metadata": {},
   "outputs": [
    {
     "ename": "NameError",
     "evalue": "name 'even_numbers' is not defined",
     "output_type": "error",
     "traceback": [
      "\u001b[1;31m---------------------------------------------------------------------------\u001b[0m",
      "\u001b[1;31mNameError\u001b[0m                                 Traceback (most recent call last)",
      "Cell \u001b[1;32mIn[58], line 1\u001b[0m\n\u001b[1;32m----> 1\u001b[0m check_even_list([\u001b[38;5;241m2\u001b[39m,\u001b[38;5;241m4\u001b[39m,\u001b[38;5;241m5\u001b[39m])\n",
      "Cell \u001b[1;32mIn[53], line 9\u001b[0m, in \u001b[0;36mcheck_even_list\u001b[1;34m(num_list)\u001b[0m\n\u001b[0;32m      7\u001b[0m \u001b[38;5;28;01mfor\u001b[39;00m number \u001b[38;5;129;01min\u001b[39;00m num_list:\n\u001b[0;32m      8\u001b[0m     \u001b[38;5;28;01mif\u001b[39;00m number \u001b[38;5;241m%\u001b[39m \u001b[38;5;241m2\u001b[39m \u001b[38;5;241m==\u001b[39m \u001b[38;5;241m0\u001b[39m:\n\u001b[1;32m----> 9\u001b[0m         even_numbers\u001b[38;5;241m.\u001b[39mappend(number)\n\u001b[0;32m     11\u001b[0m     \u001b[38;5;28;01melse\u001b[39;00m:\n\u001b[0;32m     12\u001b[0m         \u001b[38;5;28;01mpass\u001b[39;00m\n",
      "\u001b[1;31mNameError\u001b[0m: name 'even_numbers' is not defined"
     ]
    }
   ],
   "source": [
    "check_even_list([2,4,5])"
   ]
  },
  {
   "cell_type": "code",
   "execution_count": 49,
   "id": "a931141a-25dc-433f-8f8d-b8e8dc2c7f5c",
   "metadata": {},
   "outputs": [
    {
     "ename": "NameError",
     "evalue": "name 'even_numbers' is not defined",
     "output_type": "error",
     "traceback": [
      "\u001b[1;31m---------------------------------------------------------------------------\u001b[0m",
      "\u001b[1;31mNameError\u001b[0m                                 Traceback (most recent call last)",
      "Cell \u001b[1;32mIn[49], line 1\u001b[0m\n\u001b[1;32m----> 1\u001b[0m check_even_list([\u001b[38;5;241m1\u001b[39m,\u001b[38;5;241m1\u001b[39m,\u001b[38;5;241m1\u001b[39m,\u001b[38;5;241m2\u001b[39m])\n",
      "Cell \u001b[1;32mIn[47], line 9\u001b[0m, in \u001b[0;36mcheck_even_list\u001b[1;34m(num_list)\u001b[0m\n\u001b[0;32m      7\u001b[0m \u001b[38;5;28;01mfor\u001b[39;00m number \u001b[38;5;129;01min\u001b[39;00m num_list:\n\u001b[0;32m      8\u001b[0m     \u001b[38;5;28;01mif\u001b[39;00m number \u001b[38;5;241m%\u001b[39m \u001b[38;5;241m2\u001b[39m \u001b[38;5;241m==\u001b[39m \u001b[38;5;241m0\u001b[39m:\n\u001b[1;32m----> 9\u001b[0m         even_numbers\u001b[38;5;241m.\u001b[39mappend(number)\n\u001b[0;32m     11\u001b[0m     \u001b[38;5;28;01melse\u001b[39;00m:\n\u001b[0;32m     12\u001b[0m         \u001b[38;5;28;01mpass\u001b[39;00m\n",
      "\u001b[1;31mNameError\u001b[0m: name 'even_numbers' is not defined"
     ]
    }
   ],
   "source": [
    "check_even_list([1,1,1,2])"
   ]
  },
  {
   "cell_type": "code",
   "execution_count": 50,
   "id": "a4ff6217-2687-4503-864c-ea933e5e91d4",
   "metadata": {},
   "outputs": [
    {
     "ename": "NameError",
     "evalue": "name 'even_numbers' is not defined",
     "output_type": "error",
     "traceback": [
      "\u001b[1;31m---------------------------------------------------------------------------\u001b[0m",
      "\u001b[1;31mNameError\u001b[0m                                 Traceback (most recent call last)",
      "Cell \u001b[1;32mIn[50], line 1\u001b[0m\n\u001b[1;32m----> 1\u001b[0m check_even_list([\u001b[38;5;241m3\u001b[39m,\u001b[38;5;241m1\u001b[39m,\u001b[38;5;241m1\u001b[39m,\u001b[38;5;241m2\u001b[39m])\n",
      "Cell \u001b[1;32mIn[47], line 9\u001b[0m, in \u001b[0;36mcheck_even_list\u001b[1;34m(num_list)\u001b[0m\n\u001b[0;32m      7\u001b[0m \u001b[38;5;28;01mfor\u001b[39;00m number \u001b[38;5;129;01min\u001b[39;00m num_list:\n\u001b[0;32m      8\u001b[0m     \u001b[38;5;28;01mif\u001b[39;00m number \u001b[38;5;241m%\u001b[39m \u001b[38;5;241m2\u001b[39m \u001b[38;5;241m==\u001b[39m \u001b[38;5;241m0\u001b[39m:\n\u001b[1;32m----> 9\u001b[0m         even_numbers\u001b[38;5;241m.\u001b[39mappend(number)\n\u001b[0;32m     11\u001b[0m     \u001b[38;5;28;01melse\u001b[39;00m:\n\u001b[0;32m     12\u001b[0m         \u001b[38;5;28;01mpass\u001b[39;00m\n",
      "\u001b[1;31mNameError\u001b[0m: name 'even_numbers' is not defined"
     ]
    }
   ],
   "source": [
    "check_even_list([3,1,1,2])"
   ]
  },
  {
   "cell_type": "code",
   "execution_count": 51,
   "id": "a4b11ce2-d67a-444f-a6ec-0eac717641eb",
   "metadata": {},
   "outputs": [
    {
     "ename": "NameError",
     "evalue": "name 'even_numbers' is not defined",
     "output_type": "error",
     "traceback": [
      "\u001b[1;31m---------------------------------------------------------------------------\u001b[0m",
      "\u001b[1;31mNameError\u001b[0m                                 Traceback (most recent call last)",
      "Cell \u001b[1;32mIn[51], line 1\u001b[0m\n\u001b[1;32m----> 1\u001b[0m check_even_list([\u001b[38;5;241m3\u001b[39m,\u001b[38;5;241m1\u001b[39m,\u001b[38;5;241m2\u001b[39m,\u001b[38;5;241m1\u001b[39m])\n",
      "Cell \u001b[1;32mIn[47], line 9\u001b[0m, in \u001b[0;36mcheck_even_list\u001b[1;34m(num_list)\u001b[0m\n\u001b[0;32m      7\u001b[0m \u001b[38;5;28;01mfor\u001b[39;00m number \u001b[38;5;129;01min\u001b[39;00m num_list:\n\u001b[0;32m      8\u001b[0m     \u001b[38;5;28;01mif\u001b[39;00m number \u001b[38;5;241m%\u001b[39m \u001b[38;5;241m2\u001b[39m \u001b[38;5;241m==\u001b[39m \u001b[38;5;241m0\u001b[39m:\n\u001b[1;32m----> 9\u001b[0m         even_numbers\u001b[38;5;241m.\u001b[39mappend(number)\n\u001b[0;32m     11\u001b[0m     \u001b[38;5;28;01melse\u001b[39;00m:\n\u001b[0;32m     12\u001b[0m         \u001b[38;5;28;01mpass\u001b[39;00m\n",
      "\u001b[1;31mNameError\u001b[0m: name 'even_numbers' is not defined"
     ]
    }
   ],
   "source": [
    "check_even_list([3,1,2,1])"
   ]
  },
  {
   "cell_type": "code",
   "execution_count": null,
   "id": "87b09acb-ab10-4ede-8d0f-bdd76f0487a8",
   "metadata": {},
   "outputs": [],
   "source": [
    "                          FUNCTIONS AND TUPLE UNPACKING "
   ]
  },
  {
   "cell_type": "code",
   "execution_count": 59,
   "id": "c15df50f-54bd-4340-9ca2-bc62df2d7d5c",
   "metadata": {},
   "outputs": [],
   "source": [
    "stock_prices = [('APPL',200),('GOOG',400),('MSFT',100)]"
   ]
  },
  {
   "cell_type": "code",
   "execution_count": 60,
   "id": "89245247-2202-4a53-9fb9-b8252e5eb81d",
   "metadata": {},
   "outputs": [
    {
     "name": "stdout",
     "output_type": "stream",
     "text": [
      "('APPL', 200)\n",
      "('GOOG', 400)\n",
      "('MSFT', 100)\n"
     ]
    }
   ],
   "source": [
    "for item in stock_prices:\n",
    "    print(item)"
   ]
  },
  {
   "cell_type": "code",
   "execution_count": 63,
   "id": "2e6fe795-4f8e-44f3-9bbd-0cc62bacde68",
   "metadata": {},
   "outputs": [
    {
     "name": "stdout",
     "output_type": "stream",
     "text": [
      "220.0\n",
      "440.0\n",
      "110.0\n"
     ]
    }
   ],
   "source": [
    "for ticker,price in stock_prices:\n",
    "    print(price+(0.1*price))"
   ]
  },
  {
   "cell_type": "code",
   "execution_count": null,
   "id": "2847d9c4-6395-4cc2-8cff-2f296f529281",
   "metadata": {},
   "outputs": [],
   "source": [
    "                   INTERACTION BETWEEN PYTHON FUNCTION "
   ]
  },
  {
   "cell_type": "code",
   "execution_count": 64,
   "id": "049a355a-6179-4fe4-9d97-9dd35aaec36d",
   "metadata": {},
   "outputs": [],
   "source": [
    "example = [1,2,3,4,5,6,7]"
   ]
  },
  {
   "cell_type": "code",
   "execution_count": 65,
   "id": "3061c8d5-c54d-4287-a146-efc7ef942d57",
   "metadata": {},
   "outputs": [],
   "source": [
    "from random import shuffle"
   ]
  },
  {
   "cell_type": "code",
   "execution_count": 66,
   "id": "0f54c937-2bd8-48db-b0a7-5145b72b8a66",
   "metadata": {},
   "outputs": [],
   "source": [
    "result = shuffle(example)"
   ]
  },
  {
   "cell_type": "code",
   "execution_count": 67,
   "id": "e1c8e054-b01a-4f9e-9a6b-4bb052a88921",
   "metadata": {},
   "outputs": [],
   "source": [
    "result"
   ]
  },
  {
   "cell_type": "code",
   "execution_count": 69,
   "id": "57bf2255-fc45-42a1-9bdd-6d687498d54e",
   "metadata": {},
   "outputs": [],
   "source": [
    "def shuffle_list(mylist):\n",
    "    shuffle(mylist)\n",
    "    return mylist"
   ]
  },
  {
   "cell_type": "code",
   "execution_count": 70,
   "id": "7bfb2abc-2515-43fd-ac7e-df70ff7a1601",
   "metadata": {},
   "outputs": [],
   "source": [
    "result = shuffle_list(example)"
   ]
  },
  {
   "cell_type": "code",
   "execution_count": 71,
   "id": "8dc8b80d-3b50-403c-ab99-adfee0dfad24",
   "metadata": {},
   "outputs": [
    {
     "data": {
      "text/plain": [
       "[7, 6, 4, 5, 1, 3, 2]"
      ]
     },
     "execution_count": 71,
     "metadata": {},
     "output_type": "execute_result"
    }
   ],
   "source": [
    "result"
   ]
  },
  {
   "cell_type": "code",
   "execution_count": 72,
   "id": "9875c974-5ff8-4cb2-afbf-2f1f16ac89f7",
   "metadata": {},
   "outputs": [],
   "source": [
    "mylist = ['','o','']"
   ]
  },
  {
   "cell_type": "code",
   "execution_count": 73,
   "id": "62f05144-1457-4c85-80c7-92f1647234ca",
   "metadata": {},
   "outputs": [
    {
     "data": {
      "text/plain": [
       "['o', '', '']"
      ]
     },
     "execution_count": 73,
     "metadata": {},
     "output_type": "execute_result"
    }
   ],
   "source": [
    "shuffle_list(mylist)"
   ]
  },
  {
   "cell_type": "code",
   "execution_count": 74,
   "id": "c90c7ad5-c1f2-4540-ae2b-c9de44b2d848",
   "metadata": {},
   "outputs": [],
   "source": [
    "def player_guess():\n",
    "\n",
    "    guess=''\n",
    "\n",
    "    while guess not in ['0','1','2']:\n",
    "        guess = input(\"pick a number: 0,1, or 2\")\n",
    "\n",
    "    return int(guess)\n",
    "        "
   ]
  },
  {
   "cell_type": "code",
   "execution_count": 1,
   "id": "0112fd15-5587-41ad-854b-9df3617780c5",
   "metadata": {},
   "outputs": [
    {
     "name": "stdout",
     "output_type": "stream",
     "text": [
      "hello world\n"
     ]
    }
   ],
   "source": [
    "print('hello world')"
   ]
  },
  {
   "cell_type": "code",
   "execution_count": 3,
   "id": "893f368a-757c-443f-afd4-b636ffd134fb",
   "metadata": {},
   "outputs": [
    {
     "ename": "SyntaxError",
     "evalue": "unexpected character after line continuation character (1319543484.py, line 1)",
     "output_type": "error",
     "traceback": [
      "\u001b[1;36m  Cell \u001b[1;32mIn[3], line 1\u001b[1;36m\u001b[0m\n\u001b[1;33m    print('my name is shambhawi' \\n 'okay')\u001b[0m\n\u001b[1;37m                                  ^\u001b[0m\n\u001b[1;31mSyntaxError\u001b[0m\u001b[1;31m:\u001b[0m unexpected character after line continuation character\n"
     ]
    }
   ],
   "source": [
    "print('my name is shambhawi' \\n 'okay')"
   ]
  },
  {
   "cell_type": "code",
   "execution_count": null,
   "id": "4cc70fef-ba67-43b7-ba09-1d3b151631ee",
   "metadata": {},
   "outputs": [],
   "source": [
    "                         ARGS AND KWARGS"
   ]
  },
  {
   "cell_type": "code",
   "execution_count": 2,
   "id": "4be8bb16-b29b-4867-bccb-76c5b5d8de42",
   "metadata": {},
   "outputs": [
    {
     "name": "stdout",
     "output_type": "stream",
     "text": [
      "hello world\n"
     ]
    }
   ],
   "source": [
    "print('hello world')"
   ]
  },
  {
   "cell_type": "code",
   "execution_count": 3,
   "id": "a126b2d9-82a9-43a2-8d04-ce1f759e35f7",
   "metadata": {},
   "outputs": [
    {
     "name": "stdout",
     "output_type": "stream",
     "text": [
      "hello shambhawi pandey\n"
     ]
    }
   ],
   "source": [
    "print('hello shambhawi pandey')"
   ]
  },
  {
   "cell_type": "code",
   "execution_count": 1,
   "id": "a25dc833-7db4-4398-be09-8fecd725cd86",
   "metadata": {},
   "outputs": [],
   "source": [
    "def myfunc(a,b,c=0,d=0):\n",
    "    # Returns 5% of the sum of a and b\n",
    "    return sum ((a,b,c,d,e))* 0.05"
   ]
  },
  {
   "cell_type": "code",
   "execution_count": 5,
   "id": "8ba33376-61a0-4a3b-bdf4-45f336ef2640",
   "metadata": {},
   "outputs": [
    {
     "ename": "TypeError",
     "evalue": "myfunc() takes 2 positional arguments but 5 were given",
     "output_type": "error",
     "traceback": [
      "\u001b[1;31m---------------------------------------------------------------------------\u001b[0m",
      "\u001b[1;31mTypeError\u001b[0m                                 Traceback (most recent call last)",
      "Cell \u001b[1;32mIn[5], line 1\u001b[0m\n\u001b[1;32m----> 1\u001b[0m myfunc(\u001b[38;5;241m40\u001b[39m,\u001b[38;5;241m60\u001b[39m,\u001b[38;5;241m100\u001b[39m,\u001b[38;5;241m100\u001b[39m,\u001b[38;5;241m300\u001b[39m)\n",
      "\u001b[1;31mTypeError\u001b[0m: myfunc() takes 2 positional arguments but 5 were given"
     ]
    }
   ],
   "source": [
    "myfunc(40,60,100,100,300)"
   ]
  },
  {
   "cell_type": "code",
   "execution_count": 3,
   "id": "3378b38f-930d-4117-ae4e-fcf4d6813317",
   "metadata": {},
   "outputs": [
    {
     "data": {
      "text/plain": [
       "function"
      ]
     },
     "execution_count": 3,
     "metadata": {},
     "output_type": "execute_result"
    }
   ],
   "source": [
    "type(myfunc)"
   ]
  },
  {
   "cell_type": "code",
   "execution_count": 6,
   "id": "0800663b-cedb-4cb7-a1ba-ff731d10158a",
   "metadata": {},
   "outputs": [],
   "source": [
    "def myfunc(*args):\n",
    "    return sum(args) * 0.05"
   ]
  },
  {
   "cell_type": "code",
   "execution_count": 8,
   "id": "4a22483c-bb1f-4cd7-b23c-8a101b224db7",
   "metadata": {},
   "outputs": [
    {
     "data": {
      "text/plain": [
       "11.75"
      ]
     },
     "execution_count": 8,
     "metadata": {},
     "output_type": "execute_result"
    }
   ],
   "source": [
    "myfunc(40,60,100,1,34)"
   ]
  },
  {
   "cell_type": "code",
   "execution_count": 9,
   "id": "afd1c8fa-3491-4133-ac8b-224092170c0e",
   "metadata": {},
   "outputs": [],
   "source": [
    "def myfunc(*spam):\n",
    "    print(spam)"
   ]
  },
  {
   "cell_type": "code",
   "execution_count": 10,
   "id": "a6889d3e-adc1-4e1e-98fc-65780f5303de",
   "metadata": {},
   "outputs": [
    {
     "name": "stdout",
     "output_type": "stream",
     "text": [
      "(40, 60, 100, 1, 34)\n"
     ]
    }
   ],
   "source": [
    "myfunc(40,60,100,1,34)"
   ]
  },
  {
   "cell_type": "code",
   "execution_count": 12,
   "id": "bfac78ec-b13c-404a-bf0c-83df81cd3238",
   "metadata": {},
   "outputs": [],
   "source": [
    "def myfunc(*args):                                spam and args are same \n",
    "    print(args)"
   ]
  },
  {
   "cell_type": "code",
   "execution_count": 13,
   "id": "2510d714-0564-42f9-8d70-ed6b1db7ffad",
   "metadata": {},
   "outputs": [
    {
     "name": "stdout",
     "output_type": "stream",
     "text": [
      "(40, 60, 100, 1, 34)\n"
     ]
    }
   ],
   "source": [
    "myfunc(40,60,100,1,34)"
   ]
  },
  {
   "cell_type": "code",
   "execution_count": 14,
   "id": "73003eac-4de4-4112-a4ee-525a7d21d63c",
   "metadata": {},
   "outputs": [],
   "source": [
    "def myfunc(*args):\n",
    "    for item in args:\n",
    "        print(item)"
   ]
  },
  {
   "cell_type": "code",
   "execution_count": 15,
   "id": "3beb263c-1823-4490-b787-67522b475a84",
   "metadata": {},
   "outputs": [
    {
     "name": "stdout",
     "output_type": "stream",
     "text": [
      "40\n",
      "60\n",
      "100\n",
      "1\n",
      "34\n"
     ]
    }
   ],
   "source": [
    "myfunc(40,60,100,1,34)"
   ]
  },
  {
   "cell_type": "code",
   "execution_count": 16,
   "id": "31f6d847-9996-4e69-988e-da0a630b18c6",
   "metadata": {},
   "outputs": [],
   "source": [
    "def myfunc(**kwargs):                                                 kwargs:- dictornary and args:- tupple\n",
    "    print(kwargs)\n",
    "    if 'fruit' in kwargs:\n",
    "        print('My fruit of choice is {}'.format(kwargs['fruit']))\n",
    "    else:\n",
    "        print('I did not find any fruit here')"
   ]
  },
  {
   "cell_type": "code",
   "execution_count": 17,
   "id": "ded45f74-068b-491b-b8de-14cd7ed49767",
   "metadata": {},
   "outputs": [
    {
     "name": "stdout",
     "output_type": "stream",
     "text": [
      "{'fruit': 'apple', 'veggies': 'lettuce'}\n",
      "My fruit of choice is apple\n"
     ]
    }
   ],
   "source": [
    "myfunc(fruit='apple',veggies = 'lettuce')"
   ]
  },
  {
   "cell_type": "code",
   "execution_count": 21,
   "id": "edddf964-c2f9-4b7e-a27a-2b522ec13fc3",
   "metadata": {},
   "outputs": [],
   "source": [
    "def myfunc(*args,**kwargs):\n",
    "    \n",
    "    print('I would like {} {}'.format(args[0],kwargs['food']))"
   ]
  },
  {
   "cell_type": "code",
   "execution_count": 22,
   "id": "ae241869-ae21-43e7-beba-d7033880fc7a",
   "metadata": {},
   "outputs": [
    {
     "name": "stdout",
     "output_type": "stream",
     "text": [
      "I would like 10 eggs\n"
     ]
    }
   ],
   "source": [
    "myfunc(10,20,30,fruit='orange',food='eggs',animal='dog')"
   ]
  },
  {
   "cell_type": "code",
   "execution_count": 23,
   "id": "de0669b0-954f-4f52-a313-ebbb3c5a8e03",
   "metadata": {},
   "outputs": [],
   "source": [
    "def myfunc(*args,**kwargs):                                        PAY ATTENTION \n",
    "    print(args)\n",
    "    print(kwargs)\n",
    "    print('I would like {} {}'.format(args[0],kwargs['food']))"
   ]
  },
  {
   "cell_type": "code",
   "execution_count": 24,
   "id": "8483da03-d422-4539-952b-db0fd231ffce",
   "metadata": {},
   "outputs": [
    {
     "name": "stdout",
     "output_type": "stream",
     "text": [
      "(10, 20, 30)\n",
      "{'fruit': 'orange', 'food': 'eggs', 'animal': 'dog'}\n",
      "I would like 10 eggs\n"
     ]
    }
   ],
   "source": [
    "myfunc(10,20,30,fruit='orange',food='eggs',animal='dog')"
   ]
  },
  {
   "cell_type": "code",
   "execution_count": null,
   "id": "9330daf4-d2c5-438b-b996-525b4219b6d7",
   "metadata": {},
   "outputs": [],
   "source": [
    "LAMBDA EXPRESSION,MAP,AND FILTER FUNCTION                               more study needed"
   ]
  },
  {
   "cell_type": "code",
   "execution_count": 26,
   "id": "fde468c5-ec8e-48a3-93fe-2a44d15489dc",
   "metadata": {},
   "outputs": [],
   "source": [
    "def square(num):\n",
    "    return num**2"
   ]
  },
  {
   "cell_type": "code",
   "execution_count": 30,
   "id": "dc57d6a7-8c2d-4c10-afe5-930687f4609d",
   "metadata": {},
   "outputs": [],
   "source": [
    "my_num = [1,2,3,4,5]"
   ]
  },
  {
   "cell_type": "code",
   "execution_count": 32,
   "id": "b5f70df0-1bf1-42c3-bf23-5a03f0c0605e",
   "metadata": {},
   "outputs": [
    {
     "data": {
      "text/plain": [
       "<map at 0x16bec4f6770>"
      ]
     },
     "execution_count": 32,
     "metadata": {},
     "output_type": "execute_result"
    }
   ],
   "source": [
    "map(square,my_num)"
   ]
  },
  {
   "cell_type": "code",
   "execution_count": 33,
   "id": "c9a59507-2608-4728-81fc-1376cbd18074",
   "metadata": {},
   "outputs": [
    {
     "name": "stdout",
     "output_type": "stream",
     "text": [
      "1\n",
      "4\n",
      "9\n",
      "16\n",
      "25\n"
     ]
    }
   ],
   "source": [
    "for item in map(square,my_num):\n",
    "    print(item)"
   ]
  },
  {
   "cell_type": "code",
   "execution_count": 34,
   "id": "eb0e6e6f-9e17-4bfe-b2c1-65947f3d13a7",
   "metadata": {},
   "outputs": [
    {
     "data": {
      "text/plain": [
       "[1, 4, 9, 16, 25]"
      ]
     },
     "execution_count": 34,
     "metadata": {},
     "output_type": "execute_result"
    }
   ],
   "source": [
    "list(map(square,my_num))"
   ]
  },
  {
   "cell_type": "code",
   "execution_count": 35,
   "id": "12fd4349-58e2-4d99-a7eb-bc3c4d2ed4a7",
   "metadata": {},
   "outputs": [],
   "source": [
    "def splicer(mystring):\n",
    "    if len(mystring)%2 == 0:\n",
    "        return 'EVEN'\n",
    "    else:\n",
    "        return mystring[0]"
   ]
  },
  {
   "cell_type": "code",
   "execution_count": 36,
   "id": "206d6532-2bba-4f62-943e-a292a78d14d2",
   "metadata": {},
   "outputs": [],
   "source": [
    "names = ['Andy','Even','Sally']"
   ]
  },
  {
   "cell_type": "code",
   "execution_count": 37,
   "id": "fca837ec-c8dc-420f-a7db-41834c1941ca",
   "metadata": {},
   "outputs": [
    {
     "data": {
      "text/plain": [
       "['EVEN', 'EVEN', 'S']"
      ]
     },
     "execution_count": 37,
     "metadata": {},
     "output_type": "execute_result"
    }
   ],
   "source": [
    "list(map(splicer,names))"
   ]
  },
  {
   "cell_type": "code",
   "execution_count": 38,
   "id": "74946af6-3569-48d1-9faf-a7e0cd344773",
   "metadata": {},
   "outputs": [],
   "source": [
    "def check_even(num):\n",
    "    return num%2 == 0"
   ]
  },
  {
   "cell_type": "code",
   "execution_count": 39,
   "id": "d411af69-c3b9-484e-8d23-c9c6a56d96f1",
   "metadata": {},
   "outputs": [],
   "source": [
    "mynums = [1,2,3,4,5,6]"
   ]
  },
  {
   "cell_type": "code",
   "execution_count": 40,
   "id": "d5d7f469-3734-4c74-8d0d-a3232dacbd6d",
   "metadata": {},
   "outputs": [
    {
     "data": {
      "text/plain": [
       "[2, 4, 6]"
      ]
     },
     "execution_count": 40,
     "metadata": {},
     "output_type": "execute_result"
    }
   ],
   "source": [
    "list(filter(check_even,mynums))"
   ]
  },
  {
   "cell_type": "code",
   "execution_count": 41,
   "id": "f076c79d-35ed-4f37-8307-becd2f8c5a48",
   "metadata": {},
   "outputs": [],
   "source": [
    "square = lambda num: num ** 2"
   ]
  },
  {
   "cell_type": "code",
   "execution_count": 42,
   "id": "cac70707-28ce-4898-857a-495f9579e927",
   "metadata": {},
   "outputs": [
    {
     "data": {
      "text/plain": [
       "25"
      ]
     },
     "execution_count": 42,
     "metadata": {},
     "output_type": "execute_result"
    }
   ],
   "source": [
    "square(5)"
   ]
  },
  {
   "cell_type": "code",
   "execution_count": null,
   "id": "a562f6ed-c189-4676-a2f7-4937743350ef",
   "metadata": {},
   "outputs": [],
   "source": [
    "             NESTED STATEMENT AND SCOPES                              pay attention"
   ]
  },
  {
   "cell_type": "raw",
   "id": "088862d9-b71b-471c-b056-6d4d8a6e1a99",
   "metadata": {},
   "source": [
    "x = 25\n",
    "\n",
    "def printer():\n",
    "    x = 50\n",
    "    return x\n",
    "    "
   ]
  },
  {
   "cell_type": "code",
   "execution_count": 6,
   "id": "a0cf4945-ec63-44ee-9b1a-47a8da04a81d",
   "metadata": {},
   "outputs": [
    {
     "name": "stdout",
     "output_type": "stream",
     "text": [
      "25\n"
     ]
    }
   ],
   "source": [
    "print(x)"
   ]
  },
  {
   "cell_type": "code",
   "execution_count": 7,
   "id": "ff6c13d7-a5b0-472c-99f1-ddb43b2d3e1c",
   "metadata": {},
   "outputs": [
    {
     "name": "stdout",
     "output_type": "stream",
     "text": [
      "50\n"
     ]
    }
   ],
   "source": [
    "print(printer())"
   ]
  },
  {
   "cell_type": "code",
   "execution_count": 8,
   "id": "4182bba0-acac-4fc6-b7b7-650dc9668e6f",
   "metadata": {},
   "outputs": [
    {
     "data": {
      "text/plain": [
       "<function __main__.<lambda>(num)>"
      ]
     },
     "execution_count": 8,
     "metadata": {},
     "output_type": "execute_result"
    }
   ],
   "source": [
    "lambda num:num**2"
   ]
  },
  {
   "cell_type": "code",
   "execution_count": 11,
   "id": "dd58531f-bdad-4793-a393-197fc8c142ed",
   "metadata": {},
   "outputs": [],
   "source": [
    "name = 'THIA IS A GLOBAL STRING'\n",
    "\n",
    "def greet():\n",
    "\n",
    "    name = 'Kali'\n",
    "\n",
    "    def hello():\n",
    "        print('hello ' + name)\n",
    "\n",
    "    hello()"
   ]
  },
  {
   "cell_type": "code",
   "execution_count": 12,
   "id": "12cc9b29-cfc4-4e7f-922b-b0843b702bed",
   "metadata": {},
   "outputs": [
    {
     "name": "stdout",
     "output_type": "stream",
     "text": [
      "hello Kali\n"
     ]
    }
   ],
   "source": [
    "greet()"
   ]
  },
  {
   "cell_type": "code",
   "execution_count": 1,
   "id": "bf0289e9-4a7c-40a8-aa8f-39b548ea876f",
   "metadata": {},
   "outputs": [],
   "source": [
    "name = 'THIA IS A GLOBAL STRING'\n",
    "\n",
    "def greet():\n",
    "\n",
    "#    name = 'Kali'\n",
    "\n",
    "    def hello():\n",
    "        print('hello ' + name)\n",
    "\n",
    "    hello()"
   ]
  },
  {
   "cell_type": "code",
   "execution_count": 2,
   "id": "3edeea92-ca26-46f5-b91e-3b418de9619c",
   "metadata": {},
   "outputs": [
    {
     "name": "stdout",
     "output_type": "stream",
     "text": [
      "hello THIA IS A GLOBAL STRING\n"
     ]
    }
   ],
   "source": [
    "greet()"
   ]
  },
  {
   "cell_type": "code",
   "execution_count": null,
   "id": "f373b2d7-075d-429c-9f9d-5cf210c124c7",
   "metadata": {},
   "outputs": [],
   "source": []
  }
 ],
 "metadata": {
  "kernelspec": {
   "display_name": "Python [conda env:base] *",
   "language": "python",
   "name": "conda-base-py"
  },
  "language_info": {
   "codemirror_mode": {
    "name": "ipython",
    "version": 3
   },
   "file_extension": ".py",
   "mimetype": "text/x-python",
   "name": "python",
   "nbconvert_exporter": "python",
   "pygments_lexer": "ipython3",
   "version": "3.13.5"
  }
 },
 "nbformat": 4,
 "nbformat_minor": 5
}
