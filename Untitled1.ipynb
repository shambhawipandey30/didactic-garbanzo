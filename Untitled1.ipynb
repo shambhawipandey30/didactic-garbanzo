{
 "cells": [
  {
   "cell_type": "code",
   "execution_count": null,
   "id": "82a079b5-6bde-42d1-ae26-b6498d766116",
   "metadata": {},
   "outputs": [],
   "source": [
    "SESSION 4 AND 5 "
   ]
  },
  {
   "cell_type": "code",
   "execution_count": 1,
   "id": "7a4120b1-3de6-43f4-b08b-471594cd99b1",
   "metadata": {},
   "outputs": [
    {
     "name": "stdout",
     "output_type": "stream",
     "text": [
      "hello\n"
     ]
    }
   ],
   "source": [
    "print('hello')"
   ]
  },
  {
   "cell_type": "code",
   "execution_count": 2,
   "id": "21d830a1-2996-4b3d-9a22-ad242ed9a69a",
   "metadata": {},
   "outputs": [
    {
     "name": "stdout",
     "output_type": "stream",
     "text": [
      "Shambhawi Pandey\n"
     ]
    }
   ],
   "source": [
    "print(\"Shambhawi Pandey\")"
   ]
  },
  {
   "cell_type": "code",
   "execution_count": 3,
   "id": "77ab6146-5955-40b2-9c82-9ff32ba90e7d",
   "metadata": {},
   "outputs": [
    {
     "ename": "SyntaxError",
     "evalue": "invalid syntax (2687572593.py, line 1)",
     "output_type": "error",
     "traceback": [
      "\u001b[1;36m  Cell \u001b[1;32mIn[3], line 1\u001b[1;36m\u001b[0m\n\u001b[1;33m    COMPARISON OPERATORS\u001b[0m\n\u001b[1;37m               ^\u001b[0m\n\u001b[1;31mSyntaxError\u001b[0m\u001b[1;31m:\u001b[0m invalid syntax\n"
     ]
    }
   ],
   "source": [
    "               COMPARISON OPERATORS"
   ]
  },
  {
   "cell_type": "code",
   "execution_count": 4,
   "id": "c5cf2854-c25a-48a3-9b45-748c9909130a",
   "metadata": {},
   "outputs": [
    {
     "data": {
      "text/plain": [
       "True"
      ]
     },
     "execution_count": 4,
     "metadata": {},
     "output_type": "execute_result"
    }
   ],
   "source": [
    "2 == 2"
   ]
  },
  {
   "cell_type": "markdown",
   "id": "1b334989-57fa-4e7f-9ce4-220745d267d6",
   "metadata": {},
   "source": [
    "2 == 1"
   ]
  },
  {
   "cell_type": "code",
   "execution_count": 5,
   "id": "a29756c5-b4bd-448c-9d5b-cccef232b5d5",
   "metadata": {},
   "outputs": [
    {
     "data": {
      "text/plain": [
       "False"
      ]
     },
     "execution_count": 5,
     "metadata": {},
     "output_type": "execute_result"
    }
   ],
   "source": [
    "2 == 1"
   ]
  },
  {
   "cell_type": "code",
   "execution_count": 7,
   "id": "10f8e3ff-e52b-46aa-b5d6-004f658b854b",
   "metadata": {},
   "outputs": [
    {
     "data": {
      "text/plain": [
       "False"
      ]
     },
     "execution_count": 7,
     "metadata": {},
     "output_type": "execute_result"
    }
   ],
   "source": [
    "\"hello\" == \"bye\""
   ]
  },
  {
   "cell_type": "code",
   "execution_count": 8,
   "id": "bcea4d41-79cb-41fd-8fd9-0ceb8b997936",
   "metadata": {},
   "outputs": [
    {
     "data": {
      "text/plain": [
       "False"
      ]
     },
     "execution_count": 8,
     "metadata": {},
     "output_type": "execute_result"
    }
   ],
   "source": [
    "3 != 3                                not equal to"
   ]
  },
  {
   "cell_type": "code",
   "execution_count": 9,
   "id": "40af75b1-1360-457b-9e65-fdd1e147ab9e",
   "metadata": {},
   "outputs": [
    {
     "data": {
      "text/plain": [
       "False"
      ]
     },
     "execution_count": 9,
     "metadata": {},
     "output_type": "execute_result"
    }
   ],
   "source": [
    "2 > 5"
   ]
  },
  {
   "cell_type": "code",
   "execution_count": 10,
   "id": "fd637563-c08a-4956-b672-89376b4f5d61",
   "metadata": {},
   "outputs": [
    {
     "data": {
      "text/plain": [
       "True"
      ]
     },
     "execution_count": 10,
     "metadata": {},
     "output_type": "execute_result"
    }
   ],
   "source": [
    "2 < 5"
   ]
  },
  {
   "cell_type": "code",
   "execution_count": 11,
   "id": "fca853f9-f951-443d-9960-0ce841f19f2f",
   "metadata": {},
   "outputs": [
    {
     "data": {
      "text/plain": [
       "False"
      ]
     },
     "execution_count": 11,
     "metadata": {},
     "output_type": "execute_result"
    }
   ],
   "source": [
    "4 <= 1"
   ]
  },
  {
   "cell_type": "code",
   "execution_count": null,
   "id": "3bf3960b-7dcd-4d60-8dad-759fe262c28b",
   "metadata": {},
   "outputs": [],
   "source": [
    "                                    CHAINING : and , or ,not"
   ]
  },
  {
   "cell_type": "code",
   "execution_count": 12,
   "id": "683e1ebb-b12c-4048-9299-85871e220b52",
   "metadata": {},
   "outputs": [
    {
     "data": {
      "text/plain": [
       "True"
      ]
     },
     "execution_count": 12,
     "metadata": {},
     "output_type": "execute_result"
    }
   ],
   "source": [
    "1 < 2 < 3"
   ]
  },
  {
   "cell_type": "code",
   "execution_count": 13,
   "id": "34f55579-0a8d-449d-ae18-1cedbb49fffa",
   "metadata": {},
   "outputs": [
    {
     "data": {
      "text/plain": [
       "False"
      ]
     },
     "execution_count": 13,
     "metadata": {},
     "output_type": "execute_result"
    }
   ],
   "source": [
    "1 < 2 > 3"
   ]
  },
  {
   "cell_type": "code",
   "execution_count": 14,
   "id": "0be40ec7-03af-46f0-b0f8-3306c6984dc1",
   "metadata": {},
   "outputs": [
    {
     "data": {
      "text/plain": [
       "True"
      ]
     },
     "execution_count": 14,
     "metadata": {},
     "output_type": "execute_result"
    }
   ],
   "source": [
    "1 < 2 and 2 < 3"
   ]
  },
  {
   "cell_type": "code",
   "execution_count": 15,
   "id": "2411a9be-43eb-4c9e-a1be-f5f4d7743799",
   "metadata": {},
   "outputs": [
    {
     "data": {
      "text/plain": [
       "True"
      ]
     },
     "execution_count": 15,
     "metadata": {},
     "output_type": "execute_result"
    }
   ],
   "source": [
    "'h' == 'h' and 2 == 2"
   ]
  },
  {
   "cell_type": "code",
   "execution_count": 16,
   "id": "cb1e61cb-24bd-4580-98b4-923af5f92960",
   "metadata": {},
   "outputs": [
    {
     "data": {
      "text/plain": [
       "True"
      ]
     },
     "execution_count": 16,
     "metadata": {},
     "output_type": "execute_result"
    }
   ],
   "source": [
    "1 == 1 or 2 == 2"
   ]
  },
  {
   "cell_type": "code",
   "execution_count": 17,
   "id": "5d8a9536-d552-4c9a-b8f4-fc2402cc63f6",
   "metadata": {},
   "outputs": [
    {
     "data": {
      "text/plain": [
       "True"
      ]
     },
     "execution_count": 17,
     "metadata": {},
     "output_type": "execute_result"
    }
   ],
   "source": [
    "100 == 1 or 2 == 2"
   ]
  },
  {
   "cell_type": "code",
   "execution_count": 18,
   "id": "697ab46b-8547-41d9-81e9-12f2b769e20c",
   "metadata": {},
   "outputs": [
    {
     "data": {
      "text/plain": [
       "False"
      ]
     },
     "execution_count": 18,
     "metadata": {},
     "output_type": "execute_result"
    }
   ],
   "source": [
    "100 == 1 or 20 == 2"
   ]
  },
  {
   "cell_type": "code",
   "execution_count": 19,
   "id": "1e803778-baf1-4803-afb4-ad8f8c8268e4",
   "metadata": {},
   "outputs": [
    {
     "data": {
      "text/plain": [
       "False"
      ]
     },
     "execution_count": 19,
     "metadata": {},
     "output_type": "execute_result"
    }
   ],
   "source": [
    "not 1 == 1"
   ]
  },
  {
   "cell_type": "code",
   "execution_count": 20,
   "id": "aebb0aa4-6f3e-44a7-abf7-642737e306c2",
   "metadata": {},
   "outputs": [
    {
     "data": {
      "text/plain": [
       "True"
      ]
     },
     "execution_count": 20,
     "metadata": {},
     "output_type": "execute_result"
    }
   ],
   "source": [
    "not 300 > 500"
   ]
  },
  {
   "cell_type": "code",
   "execution_count": 21,
   "id": "08b50e68-786f-4c3f-a06e-fc5a362d5ae6",
   "metadata": {},
   "outputs": [
    {
     "data": {
      "text/plain": [
       "False"
      ]
     },
     "execution_count": 21,
     "metadata": {},
     "output_type": "execute_result"
    }
   ],
   "source": [
    " 300 > 500"
   ]
  },
  {
   "cell_type": "code",
   "execution_count": null,
   "id": "ff49bf5e-b5a7-4848-9239-2d5ac151f98a",
   "metadata": {},
   "outputs": [],
   "source": [
    "SESSION 5 "
   ]
  },
  {
   "cell_type": "code",
   "execution_count": null,
   "id": "d5b1e288-f6db-4b25-9c21-feafb485bb2e",
   "metadata": {},
   "outputs": [],
   "source": [
    "                                 IF , ELSE AND ELIF"
   ]
  },
  {
   "cell_type": "code",
   "execution_count": 23,
   "id": "8ce06418-c464-4630-bbe7-a81df7f400f6",
   "metadata": {},
   "outputs": [
    {
     "name": "stdout",
     "output_type": "stream",
     "text": [
      "ITS TRUE!\n"
     ]
    }
   ],
   "source": [
    "if True:\n",
    "    print('ITS TRUE!')"
   ]
  },
  {
   "cell_type": "code",
   "execution_count": 30,
   "id": "b5dfae49-16db-43be-9e3d-538d85b5abfb",
   "metadata": {},
   "outputs": [
    {
     "name": "stdout",
     "output_type": "stream",
     "text": [
      "IM NOT HUNGRY\n"
     ]
    }
   ],
   "source": [
    "hungry = False\n",
    "\n",
    "if hungry:\n",
    "    print('FEED ME!')\n",
    "else:\n",
    "    print(\"IM NOT HUNGRY\")"
   ]
  },
  {
   "cell_type": "code",
   "execution_count": 31,
   "id": "72f2b142-c519-405e-80e7-d3949445107e",
   "metadata": {},
   "outputs": [
    {
     "name": "stdout",
     "output_type": "stream",
     "text": [
      "FEED ME!\n"
     ]
    }
   ],
   "source": [
    "hungry = True\n",
    "\n",
    "if hungry:\n",
    "    print('FEED ME!')\n",
    "else:\n",
    "    print(\"IM NOT HUNGRY\")"
   ]
  },
  {
   "cell_type": "code",
   "execution_count": 39,
   "id": "a03f4b10-3396-40c2-8170-408879597958",
   "metadata": {},
   "outputs": [
    {
     "name": "stdout",
     "output_type": "stream",
     "text": [
      "much tension\n"
     ]
    }
   ],
   "source": [
    "loc = 'Uncle house'\n",
    "\n",
    "if loc == 'School':\n",
    "   print(\"Stay safe\")\n",
    "elif loc == 'Uncle houes':\n",
    "    print(\"happines\")\n",
    "else:\n",
    "     print(\"much tension\")"
   ]
  },
  {
   "cell_type": "code",
   "execution_count": 40,
   "id": "a4ebc428-0338-4776-978b-f3fc212551a0",
   "metadata": {},
   "outputs": [
    {
     "name": "stdout",
     "output_type": "stream",
     "text": [
      "fun\n"
     ]
    }
   ],
   "source": [
    "loc = 'Zudio'\n",
    "\n",
    "if loc == 'School':\n",
    "   print(\"Stay safe\")\n",
    "elif loc == 'Uncle houes':\n",
    "    print(\"happines\")\n",
    "elif loc == 'Zudio':\n",
    "    print(\"fun\")\n",
    "else:\n",
    "     print(\"much tension\")"
   ]
  },
  {
   "cell_type": "code",
   "execution_count": null,
   "id": "16d7641f-2ece-49eb-904a-15be2546a072",
   "metadata": {},
   "outputs": [],
   "source": [
    "                                        for loops"
   ]
  },
  {
   "cell_type": "code",
   "execution_count": 1,
   "id": "964b5142-38d4-4f9c-8daf-3f95d2498dc1",
   "metadata": {},
   "outputs": [],
   "source": [
    "mylist = [1,2,3,4,5,6,7,8,9,10]"
   ]
  },
  {
   "cell_type": "code",
   "execution_count": 3,
   "id": "59ade159-ae4a-4cf0-8704-5aefd1e235ee",
   "metadata": {},
   "outputs": [
    {
     "name": "stdout",
     "output_type": "stream",
     "text": [
      "1\n",
      "2\n",
      "3\n",
      "4\n",
      "5\n",
      "6\n",
      "7\n",
      "8\n",
      "9\n",
      "10\n"
     ]
    }
   ],
   "source": [
    "for num in mylist:                                 num is variable name \n",
    "    print(num)"
   ]
  },
  {
   "cell_type": "code",
   "execution_count": 1,
   "id": "62649288-eab2-4bf4-9be5-b938810498e6",
   "metadata": {},
   "outputs": [],
   "source": [
    "mylist = [1,2,3,4,5,6,7,8,9,10]"
   ]
  },
  {
   "cell_type": "code",
   "execution_count": 4,
   "id": "9b210880-4cc0-41a2-aadf-74c969ef386c",
   "metadata": {},
   "outputs": [
    {
     "name": "stdout",
     "output_type": "stream",
     "text": [
      "1\n",
      "2\n",
      "3\n",
      "4\n",
      "5\n",
      "6\n",
      "7\n",
      "8\n",
      "9\n",
      "10\n"
     ]
    }
   ],
   "source": [
    "for Hello in mylist:                              \n",
    "    print(Hello)"
   ]
  },
  {
   "cell_type": "code",
   "execution_count": 5,
   "id": "94f74d3a-874d-4a75-ab50-04790d052cd5",
   "metadata": {},
   "outputs": [],
   "source": [
    "mylist = [1,2,3,4,5,6,7,8,9,10]"
   ]
  },
  {
   "cell_type": "code",
   "execution_count": 6,
   "id": "222d61b5-c84d-4a08-886e-34c6053bbfac",
   "metadata": {},
   "outputs": [
    {
     "name": "stdout",
     "output_type": "stream",
     "text": [
      "Odd Number:1\n",
      "2\n",
      "Odd Number:3\n",
      "4\n",
      "Odd Number:5\n",
      "6\n",
      "Odd Number:7\n",
      "8\n",
      "Odd Number:9\n",
      "10\n"
     ]
    }
   ],
   "source": [
    "for num in mylist:\n",
    "    # check for even\n",
    "    if num % 2 == 0:\n",
    "        print(num)\n",
    "    else:\n",
    "        print(f'Odd Number:{num}')"
   ]
  },
  {
   "cell_type": "code",
   "execution_count": 9,
   "id": "5638ec4b-fbad-4772-ba57-03dc43ccf7cc",
   "metadata": {},
   "outputs": [],
   "source": [
    "prime = ('only divisble by itself')"
   ]
  },
  {
   "cell_type": "code",
   "execution_count": 11,
   "id": "7981c9f4-d136-476c-9952-7465a8fab2ff",
   "metadata": {},
   "outputs": [
    {
     "name": "stdout",
     "output_type": "stream",
     "text": [
      "10\n",
      "10\n",
      "10\n",
      "10\n",
      "10\n",
      "10\n",
      "10\n",
      "10\n",
      "10\n",
      "10\n"
     ]
    }
   ],
   "source": [
    "for prime in mylist:\n",
    "    # check for even\n",
    "    if num % 2 == 0:\n",
    "        print(num)\n",
    "    elif num is prime:\n",
    "        print('hey number is prime')\n",
    "    else:\n",
    "        print(f'Odd Number:{num}')"
   ]
  },
  {
   "cell_type": "code",
   "execution_count": 13,
   "id": "36bf203e-6472-4a7f-93be-93c5f7655d14",
   "metadata": {},
   "outputs": [
    {
     "name": "stdout",
     "output_type": "stream",
     "text": [
      "55\n"
     ]
    }
   ],
   "source": [
    "list_sum = 0                                                IMPORTANT\n",
    "\n",
    "for num in mylist:\n",
    "    list_sum = list_sum + num \n",
    "\n",
    "print(list_sum)"
   ]
  },
  {
   "cell_type": "code",
   "execution_count": 16,
   "id": "6a6a7081-581b-4e6b-a624-69387fc6e661",
   "metadata": {},
   "outputs": [
    {
     "name": "stdout",
     "output_type": "stream",
     "text": [
      "1\n",
      "3\n",
      "6\n",
      "10\n",
      "15\n",
      "21\n",
      "28\n",
      "36\n",
      "45\n",
      "55\n"
     ]
    }
   ],
   "source": [
    "list_sum = 0                                               \n",
    "\n",
    "for num in mylist:\n",
    "    list_sum = list_sum + num \n",
    "\n",
    "    print(list_sum)"
   ]
  },
  {
   "cell_type": "code",
   "execution_count": 17,
   "id": "de98d901-16bc-48d6-a4f9-9cbc449f87e6",
   "metadata": {},
   "outputs": [
    {
     "name": "stdout",
     "output_type": "stream",
     "text": [
      "H\n",
      "e\n",
      "l\n",
      "l\n",
      "o\n",
      " \n",
      "W\n",
      "o\n",
      "r\n",
      "l\n",
      "d\n"
     ]
    }
   ],
   "source": [
    "for ghgh in 'Hello World':\n",
    "    print(ghgh)"
   ]
  },
  {
   "cell_type": "code",
   "execution_count": 18,
   "id": "a5ae4923-f119-4f4d-9bb8-71ea4e57c5ef",
   "metadata": {},
   "outputs": [
    {
     "name": "stdout",
     "output_type": "stream",
     "text": [
      "Cool!\n",
      "Cool!\n",
      "Cool!\n",
      "Cool!\n",
      "Cool!\n",
      "Cool!\n",
      "Cool!\n",
      "Cool!\n",
      "Cool!\n",
      "Cool!\n",
      "Cool!\n"
     ]
    }
   ],
   "source": [
    "for ghgh in 'Hello World':\n",
    "    print('Cool!')"
   ]
  },
  {
   "cell_type": "code",
   "execution_count": 21,
   "id": "ced7c35a-3413-40a9-a516-76ccc008b1b0",
   "metadata": {},
   "outputs": [
    {
     "name": "stdout",
     "output_type": "stream",
     "text": [
      "hello!\n",
      "hello!\n",
      "hello!\n"
     ]
    }
   ],
   "source": [
    "tup = (1,2,3)\n",
    "\n",
    "for item in tup:\n",
    "    print('hello!')"
   ]
  },
  {
   "cell_type": "code",
   "execution_count": 23,
   "id": "b4729afc-ce9f-4472-860a-6ad7e6e2e2fb",
   "metadata": {},
   "outputs": [
    {
     "name": "stdout",
     "output_type": "stream",
     "text": [
      "(1, 2, 3)\n",
      "(1, 2, 3)\n",
      "(1, 2, 3)\n"
     ]
    }
   ],
   "source": [
    "tup = (1,2,3)\n",
    "\n",
    "for item in tup:\n",
    "    print(tup)"
   ]
  },
  {
   "cell_type": "code",
   "execution_count": 24,
   "id": "8c0ad1d3-1488-41cd-9179-be7d36df9bf6",
   "metadata": {},
   "outputs": [
    {
     "name": "stdout",
     "output_type": "stream",
     "text": [
      "1\n",
      "2\n",
      "3\n"
     ]
    }
   ],
   "source": [
    "tup = (1,2,3)\n",
    "\n",
    "for item in tup:\n",
    "    print(item)"
   ]
  },
  {
   "cell_type": "code",
   "execution_count": 25,
   "id": "179b346b-c466-4c61-ad41-21341a547930",
   "metadata": {},
   "outputs": [],
   "source": [
    "mylist = [(1,2),(3,4),(5,6)]"
   ]
  },
  {
   "cell_type": "code",
   "execution_count": 27,
   "id": "f9a78fc8-6e6e-4b9f-9fee-eaeaf0003409",
   "metadata": {},
   "outputs": [
    {
     "data": {
      "text/plain": [
       "3"
      ]
     },
     "execution_count": 27,
     "metadata": {},
     "output_type": "execute_result"
    }
   ],
   "source": [
    "len(mylist)"
   ]
  },
  {
   "cell_type": "code",
   "execution_count": 29,
   "id": "ef0bfaee-32b8-4e03-b204-1a38e920c0bb",
   "metadata": {},
   "outputs": [
    {
     "name": "stdout",
     "output_type": "stream",
     "text": [
      "(1, 2)\n",
      "(3, 4)\n",
      "(5, 6)\n"
     ]
    }
   ],
   "source": [
    "for item in mylist:\n",
    "    print(item)"
   ]
  },
  {
   "cell_type": "code",
   "execution_count": 30,
   "id": "ec562fc8-4f09-4173-b435-0bb69fa10e76",
   "metadata": {},
   "outputs": [
    {
     "name": "stdout",
     "output_type": "stream",
     "text": [
      "1\n",
      "2\n",
      "3\n",
      "4\n",
      "5\n",
      "6\n"
     ]
    }
   ],
   "source": [
    "for (a,b) in mylist:                                               focus on this \n",
    "    print(a)\n",
    "    print(b)"
   ]
  },
  {
   "cell_type": "code",
   "execution_count": null,
   "id": "99f76583-2d8f-411e-89d5-70f81aa98993",
   "metadata": {},
   "outputs": [],
   "source": [
    "                                              while loop"
   ]
  },
  {
   "cell_type": "code",
   "execution_count": 31,
   "id": "9a70222f-83ae-42f9-8e87-2b5d6c6d2aa1",
   "metadata": {},
   "outputs": [
    {
     "name": "stdout",
     "output_type": "stream",
     "text": [
      "the current value of x is 0\n",
      "the current value of x is 1\n",
      "the current value of x is 2\n",
      "the current value of x is 3\n",
      "the current value of x is 4\n",
      "the current value of x is 5\n",
      "the current value of x is 6\n",
      "the current value of x is 7\n"
     ]
    }
   ],
   "source": [
    "x = 0\n",
    "\n",
    "while x < 8:\n",
    "    print(f'the current value of x is {x}')\n",
    "    x = x + 1"
   ]
  },
  {
   "cell_type": "code",
   "execution_count": 32,
   "id": "ed431ec0-ab9e-4704-831b-62d84a61c083",
   "metadata": {},
   "outputs": [
    {
     "name": "stdout",
     "output_type": "stream",
     "text": [
      "the current value of x is 0\n",
      "the current value of x is 1\n",
      "the current value of x is 2\n",
      "the current value of x is 3\n",
      "the current value of x is 4\n",
      "the current value of x is 5\n",
      "the current value of x is 6\n",
      "the current value of x is 7\n"
     ]
    }
   ],
   "source": [
    "x = 0\n",
    "\n",
    "while x < 8:\n",
    "    print(f'the current value of x is {x}')\n",
    "    x += 1"
   ]
  },
  {
   "cell_type": "code",
   "execution_count": 33,
   "id": "cb4502ff-872e-4aba-a3ed-dbd8e560eac6",
   "metadata": {},
   "outputs": [],
   "source": [
    "mystring = 'Sammy'                                          break, continue,pass"
   ]
  },
  {
   "cell_type": "code",
   "execution_count": 35,
   "id": "76f91753-01b3-40e4-afef-ffa94d5fd32a",
   "metadata": {},
   "outputs": [
    {
     "name": "stdout",
     "output_type": "stream",
     "text": [
      "S\n",
      "m\n",
      "m\n",
      "y\n"
     ]
    }
   ],
   "source": [
    "for letter in mystring:                                   PAY ATTENTION \n",
    "    if letter == 'a':\n",
    "        continue\n",
    "    print(letter)"
   ]
  },
  {
   "cell_type": "code",
   "execution_count": 36,
   "id": "ee37e46d-5f33-4b5c-9cd5-94ad4a8b768a",
   "metadata": {},
   "outputs": [
    {
     "name": "stdout",
     "output_type": "stream",
     "text": [
      "S\n"
     ]
    }
   ],
   "source": [
    "for letter in mystring:          \n",
    "    if letter == 'a':\n",
    "        break\n",
    "    print(letter)"
   ]
  },
  {
   "cell_type": "code",
   "execution_count": 37,
   "id": "350622f9-ad20-42e4-92a0-ca0b2a146eb6",
   "metadata": {},
   "outputs": [
    {
     "name": "stdout",
     "output_type": "stream",
     "text": [
      "S\n",
      "a\n"
     ]
    }
   ],
   "source": [
    "for letter in mystring:          \n",
    "    if letter == 'm':\n",
    "        break\n",
    "    print(letter)"
   ]
  },
  {
   "cell_type": "code",
   "execution_count": 1,
   "id": "ffd19381-140e-4d12-a1f5-ec8e3148674c",
   "metadata": {},
   "outputs": [],
   "source": [
    "mylist = [1,2,3]"
   ]
  },
  {
   "cell_type": "code",
   "execution_count": 2,
   "id": "166722d6-d89f-4d66-9377-a8001926dbab",
   "metadata": {},
   "outputs": [
    {
     "name": "stdout",
     "output_type": "stream",
     "text": [
      "0\n",
      "1\n",
      "2\n",
      "3\n",
      "4\n",
      "5\n",
      "6\n",
      "7\n",
      "8\n",
      "9\n"
     ]
    }
   ],
   "source": [
    "for num in range(10):\n",
    "    print(num)"
   ]
  },
  {
   "cell_type": "code",
   "execution_count": 3,
   "id": "ef396014-1430-4ec8-afe1-30af8093f695",
   "metadata": {},
   "outputs": [
    {
     "name": "stdout",
     "output_type": "stream",
     "text": [
      "0\n",
      "2\n",
      "4\n",
      "6\n",
      "8\n",
      "10\n"
     ]
    }
   ],
   "source": [
    "for num in range(0,11,2):\n",
    "    print(num)"
   ]
  },
  {
   "cell_type": "code",
   "execution_count": 4,
   "id": "425f40cb-8aee-4da3-b52a-934026ab88b3",
   "metadata": {},
   "outputs": [
    {
     "name": "stdout",
     "output_type": "stream",
     "text": [
      "At index 0 the letter is a\n",
      "At index 1 the letter is b\n",
      "At index 2 the letter is c\n",
      "At index 3 the letter is d\n",
      "At index 4 the letter is e\n"
     ]
    }
   ],
   "source": [
    "index_count = 0\n",
    "\n",
    "for letter in 'abcde':\n",
    "    print('At index {} the letter is {}'.format(index_count,letter))\n",
    "    index_count += 1"
   ]
  },
  {
   "cell_type": "code",
   "execution_count": 5,
   "id": "ad32ac21-2e78-4b43-9963-a600fecef774",
   "metadata": {},
   "outputs": [
    {
     "name": "stdout",
     "output_type": "stream",
     "text": [
      "a\n",
      "b\n",
      "c\n",
      "d\n",
      "e\n"
     ]
    }
   ],
   "source": [
    "index_count = 0\n",
    "word = 'abcde'\n",
    "\n",
    "for letter in word:\n",
    "    \n",
    "    print(word[index_count])\n",
    "    index_count += 1"
   ]
  },
  {
   "cell_type": "code",
   "execution_count": 8,
   "id": "ee5def55-b851-45ac-9d56-d40e5f294562",
   "metadata": {},
   "outputs": [
    {
     "name": "stdout",
     "output_type": "stream",
     "text": [
      "0\n",
      "a\n",
      "\n",
      "\n",
      "1\n",
      "b\n",
      "\n",
      "\n",
      "2\n",
      "c\n",
      "\n",
      "\n",
      "3\n",
      "d\n",
      "\n",
      "\n",
      "4\n",
      "e\n",
      "\n",
      "\n"
     ]
    }
   ],
   "source": [
    "\n",
    "word = 'abcde'\n",
    "\n",
    "for index,letter in enumerate(word):                                 ENUMERATE FUNCTION\n",
    "    print(index)\n",
    "    print(letter)\n",
    "    print('\\n')\n"
   ]
  },
  {
   "cell_type": "code",
   "execution_count": 9,
   "id": "f563c382-98b8-4905-ae79-19e6c6308907",
   "metadata": {},
   "outputs": [],
   "source": [
    "mylist1 = [1,2,3,4,5]\n",
    "mylist2 = ['a','b','c']"
   ]
  },
  {
   "cell_type": "code",
   "execution_count": 10,
   "id": "15ed7b10-5ac3-45e2-aa4c-4a1657403c02",
   "metadata": {},
   "outputs": [
    {
     "ename": "NameError",
     "evalue": "name 'item' is not defined",
     "output_type": "error",
     "traceback": [
      "\u001b[1;31m---------------------------------------------------------------------------\u001b[0m",
      "\u001b[1;31mNameError\u001b[0m                                 Traceback (most recent call last)",
      "Cell \u001b[1;32mIn[10], line 2\u001b[0m\n\u001b[0;32m      1\u001b[0m \u001b[38;5;28;01mfor\u001b[39;00m iteam \u001b[38;5;129;01min\u001b[39;00m \u001b[38;5;28mzip\u001b[39m(mylist1,mylist2):\n\u001b[1;32m----> 2\u001b[0m     \u001b[38;5;28mprint\u001b[39m(item)\n",
      "\u001b[1;31mNameError\u001b[0m: name 'item' is not defined"
     ]
    }
   ],
   "source": [
    "for iteam in zip(mylist1,mylist2):\n",
    "    print(item)"
   ]
  },
  {
   "cell_type": "code",
   "execution_count": 12,
   "id": "eb020959-0915-4fd6-ad50-e624763d32d4",
   "metadata": {},
   "outputs": [
    {
     "data": {
      "text/plain": [
       "[(1, 'a'), (2, 'b'), (3, 'c')]"
      ]
     },
     "execution_count": 12,
     "metadata": {},
     "output_type": "execute_result"
    }
   ],
   "source": [
    "list(zip(mylist1,mylist2))                            ZIP :- SAMET LENA"
   ]
  },
  {
   "cell_type": "markdown",
   "id": "cb4ddf09-1ede-4d75-9b92-568a5e0abebb",
   "metadata": {},
   "source": [
    "2 in [1,2,3]"
   ]
  },
  {
   "cell_type": "code",
   "execution_count": 13,
   "id": "83758843-dc9b-4fa0-863f-bf61857193c3",
   "metadata": {},
   "outputs": [
    {
     "data": {
      "text/plain": [
       "True"
      ]
     },
     "execution_count": 13,
     "metadata": {},
     "output_type": "execute_result"
    }
   ],
   "source": [
    "2 in [1,2,3]"
   ]
  },
  {
   "cell_type": "code",
   "execution_count": 15,
   "id": "7f3c6ed0-33bf-4b0b-be79-a2be87da1a7d",
   "metadata": {},
   "outputs": [
    {
     "data": {
      "text/plain": [
       "True"
      ]
     },
     "execution_count": 15,
     "metadata": {},
     "output_type": "execute_result"
    }
   ],
   "source": [
    "\"w\" in \"hello world\""
   ]
  },
  {
   "cell_type": "code",
   "execution_count": 16,
   "id": "46275233-af14-4778-b502-4d350acf9244",
   "metadata": {},
   "outputs": [
    {
     "ename": "SyntaxError",
     "evalue": "invalid syntax (2142099152.py, line 1)",
     "output_type": "error",
     "traceback": [
      "\u001b[1;36m  Cell \u001b[1;32mIn[16], line 1\u001b[1;36m\u001b[0m\n\u001b[1;33m    w in hello world\u001b[0m\n\u001b[1;37m               ^\u001b[0m\n\u001b[1;31mSyntaxError\u001b[0m\u001b[1;31m:\u001b[0m invalid syntax\n"
     ]
    }
   ],
   "source": [
    "w in hello world"
   ]
  },
  {
   "cell_type": "code",
   "execution_count": 17,
   "id": "28bea1b3-5aa3-477d-a2d8-7772e6472e33",
   "metadata": {},
   "outputs": [],
   "source": [
    "mylist = [1,2,3,400,80,900]"
   ]
  },
  {
   "cell_type": "code",
   "execution_count": 18,
   "id": "655699ec-c287-4383-9b91-a449413870ed",
   "metadata": {},
   "outputs": [
    {
     "data": {
      "text/plain": [
       "1"
      ]
     },
     "execution_count": 18,
     "metadata": {},
     "output_type": "execute_result"
    }
   ],
   "source": [
    "min(mylist)                                                     MINIMUM"
   ]
  },
  {
   "cell_type": "code",
   "execution_count": 19,
   "id": "0c7ed80d-6453-45fe-bf74-b36bd458e854",
   "metadata": {},
   "outputs": [
    {
     "data": {
      "text/plain": [
       "900"
      ]
     },
     "execution_count": 19,
     "metadata": {},
     "output_type": "execute_result"
    }
   ],
   "source": [
    "max(mylist)                                                     MAXIMUM"
   ]
  },
  {
   "cell_type": "code",
   "execution_count": 20,
   "id": "11f547c0-30e9-487f-acc1-cbec9c7aa0ab",
   "metadata": {},
   "outputs": [],
   "source": [
    "from random import shuffle"
   ]
  },
  {
   "cell_type": "code",
   "execution_count": 17,
   "id": "ffe08115-a527-41f6-9283-b734ad938df6",
   "metadata": {},
   "outputs": [],
   "source": [
    "mylist = [1,2,3,400,80,900]"
   ]
  },
  {
   "cell_type": "code",
   "execution_count": 21,
   "id": "fa880288-d1ab-4354-bdcb-b3f62b3482cc",
   "metadata": {},
   "outputs": [],
   "source": [
    "shuffle(mylist)                                                shuffle like card"
   ]
  },
  {
   "cell_type": "code",
   "execution_count": 22,
   "id": "953c041f-244b-4ed4-8667-24261dbf7281",
   "metadata": {},
   "outputs": [
    {
     "data": {
      "text/plain": [
       "[1, 900, 400, 2, 3, 80]"
      ]
     },
     "execution_count": 22,
     "metadata": {},
     "output_type": "execute_result"
    }
   ],
   "source": [
    "mylist"
   ]
  },
  {
   "cell_type": "code",
   "execution_count": 23,
   "id": "5df6035d-f3db-4ff1-a45b-5f4d4136c6d7",
   "metadata": {},
   "outputs": [],
   "source": [
    "from random import randint"
   ]
  },
  {
   "cell_type": "code",
   "execution_count": 24,
   "id": "a77f5c0c-5df5-42a3-9938-4bc9c8fdb98d",
   "metadata": {},
   "outputs": [
    {
     "data": {
      "text/plain": [
       "61"
      ]
     },
     "execution_count": 24,
     "metadata": {},
     "output_type": "execute_result"
    }
   ],
   "source": [
    "randint(0,100)"
   ]
  },
  {
   "cell_type": "raw",
   "id": "d870e222-82d2-48ef-972d-43c8bb304552",
   "metadata": {},
   "source": [
    "             LIST COMPREHENSIONS"
   ]
  },
  {
   "cell_type": "code",
   "execution_count": 2,
   "id": "d4cda3c4-dacd-423c-a426-88d55f0c4e66",
   "metadata": {},
   "outputs": [],
   "source": [
    "mystring = 'hello'"
   ]
  },
  {
   "cell_type": "code",
   "execution_count": 5,
   "id": "9b1876df-6706-4729-8ec6-aac67b0502cf",
   "metadata": {},
   "outputs": [],
   "source": [
    "mylist = []\n",
    "\n",
    "for letter in mystring:\n",
    "    mylist.append(letter)"
   ]
  },
  {
   "cell_type": "code",
   "execution_count": 6,
   "id": "2617d1d8-d9dd-4b10-a086-1a46c16a0f16",
   "metadata": {},
   "outputs": [
    {
     "data": {
      "text/plain": [
       "['h', 'e', 'l', 'l', 'o']"
      ]
     },
     "execution_count": 6,
     "metadata": {},
     "output_type": "execute_result"
    }
   ],
   "source": [
    "mylist"
   ]
  },
  {
   "cell_type": "code",
   "execution_count": 7,
   "id": "47b0269f-8b08-4fdd-8e6d-e63346e42d5d",
   "metadata": {},
   "outputs": [],
   "source": [
    "mylist = [letter for letter in mystring]"
   ]
  },
  {
   "cell_type": "code",
   "execution_count": 8,
   "id": "459268c5-8742-46c2-a356-6731bf7bcadc",
   "metadata": {},
   "outputs": [
    {
     "data": {
      "text/plain": [
       "['h', 'e', 'l', 'l', 'o']"
      ]
     },
     "execution_count": 8,
     "metadata": {},
     "output_type": "execute_result"
    }
   ],
   "source": [
    "mylist"
   ]
  },
  {
   "cell_type": "code",
   "execution_count": 9,
   "id": "3d02cda9-f66d-4420-969a-6ecbc23a233f",
   "metadata": {},
   "outputs": [],
   "source": [
    "celcius = [0,10,20,34.5]\n",
    "\n",
    "fahrenheit = [( (9/5)*temp + 32) for temp in celcius]"
   ]
  },
  {
   "cell_type": "code",
   "execution_count": 10,
   "id": "9c875b8c-5d5b-4ac2-b697-7ae6371012c2",
   "metadata": {},
   "outputs": [
    {
     "data": {
      "text/plain": [
       "[32.0, 50.0, 68.0, 94.1]"
      ]
     },
     "execution_count": 10,
     "metadata": {},
     "output_type": "execute_result"
    }
   ],
   "source": [
    "fahrenheit"
   ]
  },
  {
   "cell_type": "code",
   "execution_count": null,
   "id": "96970456-bc70-4472-b9e2-fe15ff10fbf3",
   "metadata": {},
   "outputs": [],
   "source": []
  }
 ],
 "metadata": {
  "kernelspec": {
   "display_name": "Python 3 (ipykernel)",
   "language": "python",
   "name": "python3"
  },
  "language_info": {
   "codemirror_mode": {
    "name": "ipython",
    "version": 3
   },
   "file_extension": ".py",
   "mimetype": "text/x-python",
   "name": "python",
   "nbconvert_exporter": "python",
   "pygments_lexer": "ipython3",
   "version": "3.13.5"
  }
 },
 "nbformat": 4,
 "nbformat_minor": 5
}
