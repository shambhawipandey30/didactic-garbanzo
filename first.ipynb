{
 "cells": [
  {
   "cell_type": "code",
   "execution_count": 1,
   "id": "53f468f7-0a0c-4db4-90cc-a6ca59090959",
   "metadata": {},
   "outputs": [
    {
     "name": "stdout",
     "output_type": "stream",
     "text": [
      "hellowrold\n"
     ]
    }
   ],
   "source": [
    "print(\"hellowrold\")\n"
   ]
  },
  {
   "cell_type": "code",
   "execution_count": 1,
   "id": "1d77ce83-4168-4f7b-9813-06965354b049",
   "metadata": {},
   "outputs": [
    {
     "name": "stdout",
     "output_type": "stream",
     "text": [
      "5\n"
     ]
    }
   ],
   "source": [
    "a = 2\n",
    "b = 3\n",
    "print(a+b)"
   ]
  },
  {
   "cell_type": "markdown",
   "id": "e5021614",
   "metadata": {},
   "source": []
  },
  {
   "cell_type": "code",
   "execution_count": 3,
   "id": "8b6a37e5-cc35-4a79-8ce9-c1809a09ff05",
   "metadata": {},
   "outputs": [
    {
     "data": {
      "text/plain": [
       "3"
      ]
     },
     "execution_count": 3,
     "metadata": {},
     "output_type": "execute_result"
    }
   ],
   "source": [
    "b\n"
   ]
  },
  {
   "cell_type": "code",
   "execution_count": 4,
   "id": "a363e2f1-bf31-4150-bd06-ba30ec8a6040",
   "metadata": {},
   "outputs": [
    {
     "data": {
      "text/plain": [
       "2"
      ]
     },
     "execution_count": 4,
     "metadata": {},
     "output_type": "execute_result"
    }
   ],
   "source": [
    "a"
   ]
  },
  {
   "cell_type": "code",
   "execution_count": 8,
   "id": "c8eaede6-aaa5-4155-8865-29ef3d974be8",
   "metadata": {},
   "outputs": [
    {
     "name": "stdout",
     "output_type": "stream",
     "text": [
      " please enter number:  89\n",
      " please enetr value of b:  100\n"
     ]
    },
    {
     "name": "stdout",
     "output_type": "stream",
     "text": [
      "189\n"
     ]
    }
   ],
   "source": [
    "a = int(input(\" please enter number: \"))\n",
    "b = int(input(\" please enetr value of b: \"))\n",
    "c = a + b\n",
    "print(c)"
   ]
  },
  {
   "cell_type": "code",
   "execution_count": 2,
   "id": "5e1158db-b0f6-4b0c-af2b-ead0fb8cfb63",
   "metadata": {},
   "outputs": [
    {
     "name": "stdout",
     "output_type": "stream",
     "text": [
      "16\n"
     ]
    }
   ],
   "source": [
    "a = 8\n",
    "b = 8\n",
    "print(a+b)"
   ]
  },
  {
   "cell_type": "code",
   "execution_count": 1,
   "id": "6d4ebfbc-47bb-4a9e-ba69-9dbdec7dd5a4",
   "metadata": {},
   "outputs": [
    {
     "name": "stdout",
     "output_type": "stream",
     "text": [
      "7\n"
     ]
    }
   ],
   "source": [
    "a = 3\n",
    "b = 4\n",
    "print(a+b)"
   ]
  },
  {
   "cell_type": "code",
   "execution_count": 2,
   "id": "a3f05e10-a099-444c-a024-d13d3b869479",
   "metadata": {},
   "outputs": [
    {
     "ename": "NameError",
     "evalue": "name 'hello' is not defined",
     "output_type": "error",
     "traceback": [
      "\u001b[1;31m---------------------------------------------------------------------------\u001b[0m",
      "\u001b[1;31mNameError\u001b[0m                                 Traceback (most recent call last)",
      "Cell \u001b[1;32mIn[2], line 1\u001b[0m\n\u001b[1;32m----> 1\u001b[0m hello\n",
      "\u001b[1;31mNameError\u001b[0m: name 'hello' is not defined"
     ]
    }
   ],
   "source": [
    "hello"
   ]
  },
  {
   "cell_type": "code",
   "execution_count": 3,
   "id": "005b6980-b555-4480-904d-92c40deb9da4",
   "metadata": {},
   "outputs": [
    {
     "name": "stdout",
     "output_type": "stream",
     "text": [
      "8\n"
     ]
    }
   ],
   "source": [
    "c = 6\n",
    "d = 2\n",
    "print(c+d)"
   ]
  },
  {
   "cell_type": "markdown",
   "id": "5f0908a2-f31c-4f82-9ab4-6bf05025fc19",
   "metadata": {},
   "source": [
    "modulo\n"
   ]
  },
  {
   "cell_type": "code",
   "execution_count": 4,
   "id": "6d7e9b19-c8a7-4cc9-8aca-4701ab43885a",
   "metadata": {},
   "outputs": [
    {
     "data": {
      "text/plain": [
       "1"
      ]
     },
     "execution_count": 4,
     "metadata": {},
     "output_type": "execute_result"
    }
   ],
   "source": [
    "7 % 3"
   ]
  },
  {
   "cell_type": "code",
   "execution_count": 5,
   "id": "c95e78b0-2873-4eb4-bc22-89fd801977fc",
   "metadata": {},
   "outputs": [
    {
     "data": {
      "text/plain": [
       "3"
      ]
     },
     "execution_count": 5,
     "metadata": {},
     "output_type": "execute_result"
    }
   ],
   "source": [
    "45%7"
   ]
  },
  {
   "cell_type": "code",
   "execution_count": 6,
   "id": "9a9f7edb-0592-4413-9311-0eeed352fc5f",
   "metadata": {},
   "outputs": [
    {
     "data": {
      "text/plain": [
       "0"
      ]
     },
     "execution_count": 6,
     "metadata": {},
     "output_type": "execute_result"
    }
   ],
   "source": [
    "20 % 2"
   ]
  },
  {
   "cell_type": "code",
   "execution_count": 7,
   "id": "7f1607dc-4ccc-458b-b2ed-db87b42140eb",
   "metadata": {},
   "outputs": [
    {
     "data": {
      "text/plain": [
       "0"
      ]
     },
     "execution_count": 7,
     "metadata": {},
     "output_type": "execute_result"
    }
   ],
   "source": [
    "50 % 5"
   ]
  },
  {
   "cell_type": "code",
   "execution_count": 8,
   "id": "2e3242ae-f6d3-40ff-84ff-f0e4ee88e57f",
   "metadata": {},
   "outputs": [
    {
     "data": {
      "text/plain": [
       "8"
      ]
     },
     "execution_count": 8,
     "metadata": {},
     "output_type": "execute_result"
    }
   ],
   "source": [
    "2 ** 3                 square"
   ]
  },
  {
   "cell_type": "code",
   "execution_count": 9,
   "id": "9ae50b9d-861b-4092-b62c-e669c1dba530",
   "metadata": {},
   "outputs": [
    {
     "data": {
      "text/plain": [
       "4"
      ]
     },
     "execution_count": 9,
     "metadata": {},
     "output_type": "execute_result"
    }
   ],
   "source": [
    "2 ** 2"
   ]
  },
  {
   "cell_type": "code",
   "execution_count": 10,
   "id": "53224ae9-d009-493e-9a92-5e38ab9857b0",
   "metadata": {},
   "outputs": [
    {
     "data": {
      "text/plain": [
       "6"
      ]
     },
     "execution_count": 10,
     "metadata": {},
     "output_type": "execute_result"
    }
   ],
   "source": [
    "2 * 3                  mutiply "
   ]
  },
  {
   "cell_type": "code",
   "execution_count": 11,
   "id": "77fb897f-c352-4e35-ab8b-46d7d0b5aa60",
   "metadata": {},
   "outputs": [],
   "source": [
    "a = 5"
   ]
  },
  {
   "cell_type": "code",
   "execution_count": 12,
   "id": "b8af29a0-61ac-469d-b5c9-dc0a877513e1",
   "metadata": {},
   "outputs": [
    {
     "data": {
      "text/plain": [
       "5"
      ]
     },
     "execution_count": 12,
     "metadata": {},
     "output_type": "execute_result"
    }
   ],
   "source": [
    "a"
   ]
  },
  {
   "cell_type": "code",
   "execution_count": 13,
   "id": "26ba64d0-dea4-4573-8375-f7513ee244d8",
   "metadata": {},
   "outputs": [],
   "source": [
    "a = 10"
   ]
  },
  {
   "cell_type": "code",
   "execution_count": 14,
   "id": "b4372666-95d7-4f4d-8a35-d072d7cb83b2",
   "metadata": {},
   "outputs": [
    {
     "data": {
      "text/plain": [
       "10"
      ]
     },
     "execution_count": 14,
     "metadata": {},
     "output_type": "execute_result"
    }
   ],
   "source": [
    "a"
   ]
  },
  {
   "cell_type": "code",
   "execution_count": 15,
   "id": "85b14270-9b2b-4774-bde1-8ac5a22e7b9a",
   "metadata": {},
   "outputs": [
    {
     "data": {
      "text/plain": [
       "20"
      ]
     },
     "execution_count": 15,
     "metadata": {},
     "output_type": "execute_result"
    }
   ],
   "source": [
    "a + a "
   ]
  },
  {
   "cell_type": "code",
   "execution_count": 16,
   "id": "2d3581d6-7b5f-4504-956b-6d5b31931ec2",
   "metadata": {},
   "outputs": [
    {
     "data": {
      "text/plain": [
       "10"
      ]
     },
     "execution_count": 16,
     "metadata": {},
     "output_type": "execute_result"
    }
   ],
   "source": [
    "a"
   ]
  },
  {
   "cell_type": "code",
   "execution_count": 21,
   "id": "8842d7e9-4a62-4e8e-8292-10e40a269475",
   "metadata": {},
   "outputs": [],
   "source": [
    "a = a + a"
   ]
  },
  {
   "cell_type": "code",
   "execution_count": 22,
   "id": "da48cee8-8cbc-4ec4-b9a2-cf41987605ab",
   "metadata": {},
   "outputs": [
    {
     "data": {
      "text/plain": [
       "80"
      ]
     },
     "execution_count": 22,
     "metadata": {},
     "output_type": "execute_result"
    }
   ],
   "source": [
    "a                                   again and again "
   ]
  },
  {
   "cell_type": "code",
   "execution_count": 23,
   "id": "8c786aab-86ec-4b77-84ad-0ba16832ff5b",
   "metadata": {},
   "outputs": [
    {
     "data": {
      "text/plain": [
       "int"
      ]
     },
     "execution_count": 23,
     "metadata": {},
     "output_type": "execute_result"
    }
   ],
   "source": [
    "type(a)"
   ]
  },
  {
   "cell_type": "code",
   "execution_count": 24,
   "id": "a8fcd914-f345-4018-8b3b-c26aaf3e92ac",
   "metadata": {},
   "outputs": [],
   "source": [
    "a = 30.4"
   ]
  },
  {
   "cell_type": "code",
   "execution_count": 25,
   "id": "43df1495-e206-47d8-8921-ef6c841574d4",
   "metadata": {},
   "outputs": [
    {
     "data": {
      "text/plain": [
       "float"
      ]
     },
     "execution_count": 25,
     "metadata": {},
     "output_type": "execute_result"
    }
   ],
   "source": [
    "type(a)"
   ]
  },
  {
   "cell_type": "code",
   "execution_count": 27,
   "id": "49e66614-366f-4cb4-a319-c7b472d5ce94",
   "metadata": {},
   "outputs": [],
   "source": [
    "a ='tiger'"
   ]
  },
  {
   "cell_type": "code",
   "execution_count": 28,
   "id": "918db8f9-8802-4b79-9f41-0b8263bb827a",
   "metadata": {},
   "outputs": [
    {
     "data": {
      "text/plain": [
       "str"
      ]
     },
     "execution_count": 28,
     "metadata": {},
     "output_type": "execute_result"
    }
   ],
   "source": [
    "type(a)"
   ]
  },
  {
   "cell_type": "code",
   "execution_count": 30,
   "id": "9f3c8feb-ebb3-4fc9-9979-8829247d4ea0",
   "metadata": {},
   "outputs": [],
   "source": [
    "my_income = 100\n",
    "tax_rate = 0.1\n",
    "my_taxes = my_income * tax_rate"
   ]
  },
  {
   "cell_type": "code",
   "execution_count": 31,
   "id": "6624a303-fe0c-4b10-97bf-e6887036ee01",
   "metadata": {},
   "outputs": [
    {
     "data": {
      "text/plain": [
       "10.0"
      ]
     },
     "execution_count": 31,
     "metadata": {},
     "output_type": "execute_result"
    }
   ],
   "source": [
    "my_taxes"
   ]
  },
  {
   "cell_type": "code",
   "execution_count": 32,
   "id": "e3f3cb66-0195-4e55-b690-388084213df3",
   "metadata": {},
   "outputs": [
    {
     "data": {
      "text/plain": [
       "'hello'"
      ]
     },
     "execution_count": 32,
     "metadata": {},
     "output_type": "execute_result"
    }
   ],
   "source": [
    "\"hello\""
   ]
  },
  {
   "cell_type": "code",
   "execution_count": 33,
   "id": "7b465978-e473-4aae-bfba-eaf7eecb3818",
   "metadata": {},
   "outputs": [
    {
     "data": {
      "text/plain": [
       "'world'"
      ]
     },
     "execution_count": 33,
     "metadata": {},
     "output_type": "execute_result"
    }
   ],
   "source": [
    "\"world\""
   ]
  },
  {
   "cell_type": "code",
   "execution_count": 34,
   "id": "80a855a1-e31f-47c1-8c6a-f1e8048f9bc1",
   "metadata": {},
   "outputs": [
    {
     "data": {
      "text/plain": [
       "' world '"
      ]
     },
     "execution_count": 34,
     "metadata": {},
     "output_type": "execute_result"
    }
   ],
   "source": [
    "\" world \""
   ]
  },
  {
   "cell_type": "code",
   "execution_count": 35,
   "id": "58f5b11f-fc1a-4e9a-9e7e-7e9540287696",
   "metadata": {},
   "outputs": [
    {
     "data": {
      "text/plain": [
       "\" i'm going to run \""
      ]
     },
     "execution_count": 35,
     "metadata": {},
     "output_type": "execute_result"
    }
   ],
   "source": [
    "\" i'm going to run \""
   ]
  },
  {
   "cell_type": "code",
   "execution_count": 36,
   "id": "583397a4-a770-4ef9-be5f-6723bb48bee5",
   "metadata": {},
   "outputs": [
    {
     "name": "stdout",
     "output_type": "stream",
     "text": [
      "hello\n"
     ]
    }
   ],
   "source": [
    "print(\"hello\")"
   ]
  },
  {
   "cell_type": "code",
   "execution_count": 37,
   "id": "e75a56c6-ef1b-4671-8f67-833970ec11a7",
   "metadata": {},
   "outputs": [
    {
     "name": "stdout",
     "output_type": "stream",
     "text": [
      "hello world one\n",
      "hello world two\n"
     ]
    }
   ],
   "source": [
    "print(\"hello world one\")\n",
    "print(\"hello world two\")"
   ]
  },
  {
   "cell_type": "code",
   "execution_count": 40,
   "id": "49b6bcba-bace-40d8-a73a-056e2b415aaf",
   "metadata": {},
   "outputs": [
    {
     "name": "stdout",
     "output_type": "stream",
     "text": [
      "hello \tworld\n"
     ]
    }
   ],
   "source": [
    "print('hello \\tworld')                                same line but space "
   ]
  },
  {
   "cell_type": "code",
   "execution_count": 41,
   "id": "632e11e9-dd75-4c2b-8fd8-a002d016d1e1",
   "metadata": {},
   "outputs": [
    {
     "name": "stdout",
     "output_type": "stream",
     "text": [
      "hello \n",
      "world\n"
     ]
    }
   ],
   "source": [
    "print(\"hello \\nworld\")                                 next line "
   ]
  },
  {
   "cell_type": "code",
   "execution_count": 42,
   "id": "e3ba766c-c4f6-452e-a878-5e6640294648",
   "metadata": {},
   "outputs": [
    {
     "data": {
      "text/plain": [
       "5"
      ]
     },
     "execution_count": 42,
     "metadata": {},
     "output_type": "execute_result"
    }
   ],
   "source": [
    "len('hello')                                  count space and no. of letter"
   ]
  },
  {
   "cell_type": "code",
   "execution_count": 43,
   "id": "64049820-0ab7-4af2-be8d-ac7fc4d5e137",
   "metadata": {},
   "outputs": [
    {
     "data": {
      "text/plain": [
       "21"
      ]
     },
     "execution_count": 43,
     "metadata": {},
     "output_type": "execute_result"
    }
   ],
   "source": [
    "len(\"i'am shambhawi pandey\")"
   ]
  },
  {
   "cell_type": "code",
   "execution_count": 45,
   "id": "7e72a90f-f4ab-40ef-af1a-f64ac1f254ef",
   "metadata": {},
   "outputs": [
    {
     "data": {
      "text/plain": [
       "15"
      ]
     },
     "execution_count": 45,
     "metadata": {},
     "output_type": "execute_result"
    }
   ],
   "source": [
    "len('kumarrahulratan')"
   ]
  },
  {
   "cell_type": "code",
   "execution_count": 48,
   "id": "acdaf3a4-d5d4-4381-8d8b-f8381544ad01",
   "metadata": {},
   "outputs": [],
   "source": [
    "mycore = 'Hello World'"
   ]
  },
  {
   "cell_type": "raw",
   "id": "27a88c30-70a9-4d1c-9b12-95bd0a3aa19e",
   "metadata": {},
   "source": [
    "mycore"
   ]
  },
  {
   "cell_type": "code",
   "execution_count": 49,
   "id": "0f882fcc-ba04-4e36-8496-1c23e5ccd5ec",
   "metadata": {},
   "outputs": [],
   "source": [
    "               slicing and indexing "
   ]
  },
  {
   "cell_type": "code",
   "execution_count": 49,
   "id": "0d62dda0-9bb6-4e5d-bcfa-90cdc2e954e0",
   "metadata": {},
   "outputs": [],
   "source": [
    "mystring = 'abcdefghijk'"
   ]
  },
  {
   "cell_type": "code",
   "execution_count": 50,
   "id": "7b88e40c-e471-4d53-9586-4eb1e4da3967",
   "metadata": {},
   "outputs": [
    {
     "data": {
      "text/plain": [
       "'abcdefghijk'"
      ]
     },
     "execution_count": 50,
     "metadata": {},
     "output_type": "execute_result"
    }
   ],
   "source": [
    "mystring"
   ]
  },
  {
   "cell_type": "code",
   "execution_count": 51,
   "id": "1fcf57ed-e8eb-4e4e-8ec7-6538718597fe",
   "metadata": {},
   "outputs": [
    {
     "data": {
      "text/plain": [
       "'d'"
      ]
     },
     "execution_count": 51,
     "metadata": {},
     "output_type": "execute_result"
    }
   ],
   "source": [
    "mystring[3]"
   ]
  },
  {
   "cell_type": "code",
   "execution_count": 52,
   "id": "313fb599-559a-485c-81e8-381f147bdb71",
   "metadata": {},
   "outputs": [
    {
     "data": {
      "text/plain": [
       "'a'"
      ]
     },
     "execution_count": 52,
     "metadata": {},
     "output_type": "execute_result"
    }
   ],
   "source": [
    "mystring[0]"
   ]
  },
  {
   "cell_type": "code",
   "execution_count": 53,
   "id": "c0dfbe0e-3efc-42d9-835b-afa55215fd8e",
   "metadata": {},
   "outputs": [
    {
     "data": {
      "text/plain": [
       "'k'"
      ]
     },
     "execution_count": 53,
     "metadata": {},
     "output_type": "execute_result"
    }
   ],
   "source": [
    "mystring[-1]\n"
   ]
  },
  {
   "cell_type": "code",
   "execution_count": 55,
   "id": "c5175100-0acb-4fd1-8c63-3f88f48f8dcc",
   "metadata": {},
   "outputs": [
    {
     "data": {
      "text/plain": [
       "'cdefghijk'"
      ]
     },
     "execution_count": 55,
     "metadata": {},
     "output_type": "execute_result"
    }
   ],
   "source": [
    "mystring[2:]"
   ]
  },
  {
   "cell_type": "code",
   "execution_count": 56,
   "id": "b8ea8bd8-b59a-44ad-8e6f-9b5270f66c94",
   "metadata": {},
   "outputs": [
    {
     "data": {
      "text/plain": [
       "'abc'"
      ]
     },
     "execution_count": 56,
     "metadata": {},
     "output_type": "execute_result"
    }
   ],
   "source": [
    "mystring[:3]"
   ]
  },
  {
   "cell_type": "code",
   "execution_count": 57,
   "id": "4ba06fc2-15a6-4b84-a236-eb07e14ff1a2",
   "metadata": {},
   "outputs": [
    {
     "data": {
      "text/plain": [
       "'abcdefghijk'"
      ]
     },
     "execution_count": 57,
     "metadata": {},
     "output_type": "execute_result"
    }
   ],
   "source": [
    "mystring "
   ]
  },
  {
   "cell_type": "code",
   "execution_count": 58,
   "id": "4ed428e5-0b6f-4783-99d1-fbed92d78418",
   "metadata": {},
   "outputs": [
    {
     "data": {
      "text/plain": [
       "'def'"
      ]
     },
     "execution_count": 58,
     "metadata": {},
     "output_type": "execute_result"
    }
   ],
   "source": [
    "mystring[3:6]"
   ]
  },
  {
   "cell_type": "code",
   "execution_count": 59,
   "id": "433a7c25-d221-4e16-a7f4-96c82549b0af",
   "metadata": {},
   "outputs": [
    {
     "data": {
      "text/plain": [
       "'abcdefghijk'"
      ]
     },
     "execution_count": 59,
     "metadata": {},
     "output_type": "execute_result"
    }
   ],
   "source": [
    "mystring[::]"
   ]
  },
  {
   "cell_type": "code",
   "execution_count": 60,
   "id": "806b8739-32c1-468e-a4af-e42a75805249",
   "metadata": {},
   "outputs": [
    {
     "data": {
      "text/plain": [
       "'acegik'"
      ]
     },
     "execution_count": 60,
     "metadata": {},
     "output_type": "execute_result"
    }
   ],
   "source": [
    "mystring[::2]                                jump 2 "
   ]
  },
  {
   "cell_type": "code",
   "execution_count": 61,
   "id": "22e2da38-2419-49f3-a396-df4a4dbee3ae",
   "metadata": {},
   "outputs": [
    {
     "data": {
      "text/plain": [
       "'ceg'"
      ]
     },
     "execution_count": 61,
     "metadata": {},
     "output_type": "execute_result"
    }
   ],
   "source": [
    "mystring[2:7:2]"
   ]
  },
  {
   "cell_type": "code",
   "execution_count": 1,
   "id": "3ea5ff50-ff65-4b2c-92e6-c4c6d73c2f78",
   "metadata": {},
   "outputs": [
    {
     "ename": "SyntaxError",
     "evalue": "invalid syntax (644676443.py, line 1)",
     "output_type": "error",
     "traceback": [
      "\u001b[1;36m  Cell \u001b[1;32mIn[1], line 1\u001b[1;36m\u001b[0m\n\u001b[1;33m    string properties and method\u001b[0m\n\u001b[1;37m           ^\u001b[0m\n\u001b[1;31mSyntaxError\u001b[0m\u001b[1;31m:\u001b[0m invalid syntax\n"
     ]
    }
   ],
   "source": [
    "                   string properties and method "
   ]
  },
  {
   "cell_type": "code",
   "execution_count": 2,
   "id": "2598bee9-ed3b-4a29-ad2e-eeba07388bb8",
   "metadata": {},
   "outputs": [],
   "source": [
    "name = \"sam\""
   ]
  },
  {
   "cell_type": "code",
   "execution_count": 4,
   "id": "eda378a5-aec6-41b8-acc5-bd84dc07b17e",
   "metadata": {},
   "outputs": [],
   "source": [
    "# name[0] = 'p'"
   ]
  },
  {
   "cell_type": "markdown",
   "id": "5ae4a4c6-01da-49fe-8dcf-7c871434f6ac",
   "metadata": {},
   "source": [
    "last_letters = name[1: ]"
   ]
  },
  {
   "cell_type": "code",
   "execution_count": 8,
   "id": "e34db606-1beb-45b3-a3d9-d1d092c4d220",
   "metadata": {},
   "outputs": [
    {
     "ename": "NameError",
     "evalue": "name 'last_letters' is not defined",
     "output_type": "error",
     "traceback": [
      "\u001b[1;31m---------------------------------------------------------------------------\u001b[0m",
      "\u001b[1;31mNameError\u001b[0m                                 Traceback (most recent call last)",
      "Cell \u001b[1;32mIn[8], line 1\u001b[0m\n\u001b[1;32m----> 1\u001b[0m last_letters\n",
      "\u001b[1;31mNameError\u001b[0m: name 'last_letters' is not defined"
     ]
    }
   ],
   "source": [
    "last_letters"
   ]
  },
  {
   "cell_type": "code",
   "execution_count": 9,
   "id": "c40195df-5961-44e5-9bba-9797f8c1ef2f",
   "metadata": {},
   "outputs": [],
   "source": [
    "last_letters = name[1:]"
   ]
  },
  {
   "cell_type": "code",
   "execution_count": 10,
   "id": "b9913c9a-c15f-4d63-ab9a-593e07676b1d",
   "metadata": {},
   "outputs": [
    {
     "data": {
      "text/plain": [
       "'am'"
      ]
     },
     "execution_count": 10,
     "metadata": {},
     "output_type": "execute_result"
    }
   ],
   "source": [
    "last_letters"
   ]
  },
  {
   "cell_type": "code",
   "execution_count": 11,
   "id": "cf66b5ff-53d4-4ded-86dd-58b2e75c1292",
   "metadata": {},
   "outputs": [
    {
     "data": {
      "text/plain": [
       "'pam'"
      ]
     },
     "execution_count": 11,
     "metadata": {},
     "output_type": "execute_result"
    }
   ],
   "source": [
    "'p' + last_letters"
   ]
  },
  {
   "cell_type": "code",
   "execution_count": 12,
   "id": "98ee0e9b-ba79-4dcf-9207-571f4778d263",
   "metadata": {},
   "outputs": [],
   "source": [
    "x = 'hello world'"
   ]
  },
  {
   "cell_type": "code",
   "execution_count": 25,
   "id": "0bd1d250-acbf-4d0e-ab39-7586bc597bb6",
   "metadata": {},
   "outputs": [],
   "source": [
    "x = x + \" my name is shambhaw!\""
   ]
  },
  {
   "cell_type": "code",
   "execution_count": 26,
   "id": "ab27f632-4fea-4715-a06b-521963736811",
   "metadata": {},
   "outputs": [
    {
     "data": {
      "text/plain": [
       "'hello worldmy name is shambhawi my name is shambhaw! my name is shambhaw!'"
      ]
     },
     "execution_count": 26,
     "metadata": {},
     "output_type": "execute_result"
    }
   ],
   "source": [
    "x                                                      again and again "
   ]
  },
  {
   "cell_type": "code",
   "execution_count": 27,
   "id": "71487100-3f9d-40de-bcc6-a88965d1c9c8",
   "metadata": {},
   "outputs": [],
   "source": [
    "letter = 'z'"
   ]
  },
  {
   "cell_type": "code",
   "execution_count": 28,
   "id": "305fbfe3-d129-4d67-8d84-c36e6ba6d805",
   "metadata": {},
   "outputs": [
    {
     "data": {
      "text/plain": [
       "'zzzzzzzzzz'"
      ]
     },
     "execution_count": 28,
     "metadata": {},
     "output_type": "execute_result"
    }
   ],
   "source": [
    "letter * 10"
   ]
  },
  {
   "cell_type": "code",
   "execution_count": 29,
   "id": "56a9b7b7-97e6-4c0e-87ed-97f72e757add",
   "metadata": {},
   "outputs": [
    {
     "data": {
      "text/plain": [
       "5"
      ]
     },
     "execution_count": 29,
     "metadata": {},
     "output_type": "execute_result"
    }
   ],
   "source": [
    "2 + 3"
   ]
  },
  {
   "cell_type": "code",
   "execution_count": 34,
   "id": "f0c80877-a773-4355-8325-59d787907880",
   "metadata": {},
   "outputs": [
    {
     "data": {
      "text/plain": [
       "'23'"
      ]
     },
     "execution_count": 34,
     "metadata": {},
     "output_type": "execute_result"
    }
   ],
   "source": [
    "'2' + '3'                            pay attention "
   ]
  },
  {
   "cell_type": "code",
   "execution_count": 35,
   "id": "51f11a18-5b3d-48ac-afc0-aa3ede5b238e",
   "metadata": {},
   "outputs": [],
   "source": [
    "x = 'hello world'"
   ]
  },
  {
   "cell_type": "code",
   "execution_count": 36,
   "id": "e9f4620a-eba9-4e7f-9c51-530f128f14a1",
   "metadata": {},
   "outputs": [
    {
     "data": {
      "text/plain": [
       "'HELLO WORLD'"
      ]
     },
     "execution_count": 36,
     "metadata": {},
     "output_type": "execute_result"
    }
   ],
   "source": [
    "x.upper()                                   capital letter "
   ]
  },
  {
   "cell_type": "code",
   "execution_count": 37,
   "id": "1dd40483-c8f4-40a0-ab4d-9704ae1522c1",
   "metadata": {},
   "outputs": [
    {
     "data": {
      "text/plain": [
       "'hello world'"
      ]
     },
     "execution_count": 37,
     "metadata": {},
     "output_type": "execute_result"
    }
   ],
   "source": [
    "x"
   ]
  },
  {
   "cell_type": "code",
   "execution_count": 38,
   "id": "d237134f-51d4-4f59-97b6-7cf3942281f0",
   "metadata": {},
   "outputs": [
    {
     "data": {
      "text/plain": [
       "<function str.upper()>"
      ]
     },
     "execution_count": 38,
     "metadata": {},
     "output_type": "execute_result"
    }
   ],
   "source": [
    "x.upper"
   ]
  },
  {
   "cell_type": "code",
   "execution_count": 39,
   "id": "e44a8c91-32a2-4718-a590-087b7ad0b84c",
   "metadata": {},
   "outputs": [
    {
     "data": {
      "text/plain": [
       "'hello world'"
      ]
     },
     "execution_count": 39,
     "metadata": {},
     "output_type": "execute_result"
    }
   ],
   "source": [
    "x.lower()"
   ]
  },
  {
   "cell_type": "code",
   "execution_count": 40,
   "id": "009e2a1d-c90a-48d0-b41f-ca4c9d288c51",
   "metadata": {},
   "outputs": [
    {
     "data": {
      "text/plain": [
       "['hello', 'world']"
      ]
     },
     "execution_count": 40,
     "metadata": {},
     "output_type": "execute_result"
    }
   ],
   "source": [
    "x.split()"
   ]
  },
  {
   "cell_type": "code",
   "execution_count": 42,
   "id": "a2967561-5237-412c-85ee-3623182afa83",
   "metadata": {},
   "outputs": [],
   "source": [
    "x = 'my dad is hungery' "
   ]
  },
  {
   "cell_type": "code",
   "execution_count": 43,
   "id": "89ae8d3d-7717-4cc4-8756-50d2f223ff64",
   "metadata": {},
   "outputs": [
    {
     "data": {
      "text/plain": [
       "['my', 'dad', 'is', 'hungery']"
      ]
     },
     "execution_count": 43,
     "metadata": {},
     "output_type": "execute_result"
    }
   ],
   "source": [
    "x.split()"
   ]
  },
  {
   "cell_type": "code",
   "execution_count": 44,
   "id": "65706e17-cf27-4be0-b27d-2ff74aaf3a3d",
   "metadata": {},
   "outputs": [
    {
     "data": {
      "text/plain": [
       "'MY DAD IS HUNGERY'"
      ]
     },
     "execution_count": 44,
     "metadata": {},
     "output_type": "execute_result"
    }
   ],
   "source": [
    "x.upper()"
   ]
  },
  {
   "cell_type": "code",
   "execution_count": 45,
   "id": "37eada42-5fd6-410e-92c7-8de6d2470605",
   "metadata": {},
   "outputs": [
    {
     "data": {
      "text/plain": [
       "['m', ' dad is hunger', '']"
      ]
     },
     "execution_count": 45,
     "metadata": {},
     "output_type": "execute_result"
    }
   ],
   "source": [
    "x.split('y')"
   ]
  },
  {
   "cell_type": "code",
   "execution_count": 46,
   "id": "909526bf-f8b0-4235-bc49-6d007ec6bfcd",
   "metadata": {},
   "outputs": [
    {
     "ename": "SyntaxError",
     "evalue": "invalid syntax (3369911416.py, line 1)",
     "output_type": "error",
     "traceback": [
      "\u001b[1;36m  Cell \u001b[1;32mIn[46], line 1\u001b[1;36m\u001b[0m\n\u001b[1;33m    string formating for printing\u001b[0m\n\u001b[1;37m           ^\u001b[0m\n\u001b[1;31mSyntaxError\u001b[0m\u001b[1;31m:\u001b[0m invalid syntax\n"
     ]
    }
   ],
   "source": [
    "           string formating for printing "
   ]
  },
  {
   "cell_type": "code",
   "execution_count": 47,
   "id": "15b72162-60a5-4482-bfd4-f9648363def4",
   "metadata": {},
   "outputs": [
    {
     "name": "stdout",
     "output_type": "stream",
     "text": [
      "this is a string INSERTED\n"
     ]
    }
   ],
   "source": [
    "print('this is a string {}'.format('INSERTED'))"
   ]
  },
  {
   "cell_type": "code",
   "execution_count": 48,
   "id": "65da7d45-3b2c-4cee-bce5-77fe8bf21b2e",
   "metadata": {},
   "outputs": [
    {
     "name": "stdout",
     "output_type": "stream",
     "text": [
      "the apple mango banana\n"
     ]
    }
   ],
   "source": [
    "print('the {} {} {}'.format('apple','mango','banana'))"
   ]
  },
  {
   "cell_type": "code",
   "execution_count": 50,
   "id": "e0303d68",
   "metadata": {},
   "outputs": [
    {
     "name": "stdout",
     "output_type": "stream",
     "text": [
      "the banana mango apple\n"
     ]
    }
   ],
   "source": [
    "print('the {2} {1} {0}'.format('apple','mango','banana'))"
   ]
  },
  {
   "cell_type": "code",
   "execution_count": 51,
   "id": "a4ce7db0",
   "metadata": {},
   "outputs": [
    {
     "name": "stdout",
     "output_type": "stream",
     "text": [
      "the apple apple apple\n"
     ]
    }
   ],
   "source": [
    "print('the {0} {0} {0}'.format('apple','mango','banana'))"
   ]
  },
  {
   "cell_type": "code",
   "execution_count": 52,
   "id": "535f6165",
   "metadata": {},
   "outputs": [
    {
     "name": "stdout",
     "output_type": "stream",
     "text": [
      "the apple mango banana\n"
     ]
    }
   ],
   "source": [
    "print('the {a} {m} {b}'.format(a='apple',m='mango',b='banana'))"
   ]
  },
  {
   "cell_type": "code",
   "execution_count": 53,
   "id": "6c580165",
   "metadata": {},
   "outputs": [
    {
     "name": "stdout",
     "output_type": "stream",
     "text": [
      "the banana banana banana\n"
     ]
    }
   ],
   "source": [
    "print('the {b} {b} {b}'.format(a='apple',m='mango',b='banana'))"
   ]
  },
  {
   "cell_type": "raw",
   "id": "11732a59-2408-4c3e-8bf7-22038afb4df2",
   "metadata": {},
   "source": []
  },
  {
   "cell_type": "code",
   "execution_count": 55,
   "id": "d55a9569-ebc6-4200-a64e-d105decdf5aa",
   "metadata": {},
   "outputs": [],
   "source": [
    "result = 100/777"
   ]
  },
  {
   "cell_type": "raw",
   "id": "18b73c1a-3768-4b1b-b734-4dbc32ca33b9",
   "metadata": {},
   "source": [
    "result"
   ]
  },
  {
   "cell_type": "code",
   "execution_count": 56,
   "id": "84c5f757-d625-4550-b10f-cd22f23159b8",
   "metadata": {},
   "outputs": [
    {
     "data": {
      "text/plain": [
       "0.1287001287001287"
      ]
     },
     "execution_count": 56,
     "metadata": {},
     "output_type": "execute_result"
    }
   ],
   "source": [
    "100/777"
   ]
  },
  {
   "cell_type": "code",
   "execution_count": 60,
   "id": "da162a36-bf7e-4848-8e0c-793d1c9c7b5f",
   "metadata": {},
   "outputs": [],
   "source": [
    "result = 10067/200"
   ]
  },
  {
   "cell_type": "code",
   "execution_count": 61,
   "id": "3b291ed5-cc68-4742-9b5b-3be06a1f8ba0",
   "metadata": {},
   "outputs": [
    {
     "data": {
      "text/plain": [
       "50.335"
      ]
     },
     "execution_count": 61,
     "metadata": {},
     "output_type": "execute_result"
    }
   ],
   "source": [
    "result"
   ]
  },
  {
   "cell_type": "code",
   "execution_count": 62,
   "id": "8222413c-ae6a-40f2-a627-60fdb4f66297",
   "metadata": {},
   "outputs": [
    {
     "name": "stdout",
     "output_type": "stream",
     "text": [
      "the result was 50.335\n"
     ]
    }
   ],
   "source": [
    "print (\"the result was {}\".format(result))"
   ]
  },
  {
   "cell_type": "code",
   "execution_count": 68,
   "id": "afa83053",
   "metadata": {},
   "outputs": [
    {
     "name": "stdout",
     "output_type": "stream",
     "text": [
      "the result was 50.3\n"
     ]
    }
   ],
   "source": [
    "print (\"the result was {r:1.1f}\".format(r=result))                          PAY ATTENTION HERE"
   ]
  },
  {
   "cell_type": "code",
   "execution_count": 69,
   "id": "f5d48e0d",
   "metadata": {},
   "outputs": [
    {
     "name": "stdout",
     "output_type": "stream",
     "text": [
      "the result was    50.3\n"
     ]
    }
   ],
   "source": [
    "print (\"the result was {r:7.1f}\".format(r=result))                          {VALUE:WIDTH.NO OF DIGIT}"
   ]
  },
  {
   "cell_type": "code",
   "execution_count": 1,
   "id": "b2651a66-9a79-4397-a60e-3d858652706b",
   "metadata": {},
   "outputs": [],
   "source": [
    "my_list = [1,2,3]"
   ]
  },
  {
   "cell_type": "code",
   "execution_count": 2,
   "id": "28caa9d6-01fb-4f7f-936e-a9a26a65caec",
   "metadata": {},
   "outputs": [],
   "source": [
    "my_list =['string',100,23.2]"
   ]
  },
  {
   "cell_type": "code",
   "execution_count": 3,
   "id": "92d87ce4-a60c-45b2-81e5-9fded990cc95",
   "metadata": {},
   "outputs": [
    {
     "data": {
      "text/plain": [
       "3"
      ]
     },
     "execution_count": 3,
     "metadata": {},
     "output_type": "execute_result"
    }
   ],
   "source": [
    "len(my_list)"
   ]
  },
  {
   "cell_type": "markdown",
   "id": "909a5732-e307-4eec-9ddf-9dac1e14a366",
   "metadata": {},
   "source": [
    "my_list = ['one','two','three']"
   ]
  },
  {
   "cell_type": "code",
   "execution_count": null,
   "id": "27441060-a1af-4cdd-bd64-f31f53bd47a3",
   "metadata": {},
   "outputs": [],
   "source": [
    "my_list = ['one','two','three']"
   ]
  },
  {
   "cell_type": "code",
   "execution_count": 4,
   "id": "040c6f7a-bdf9-4afa-98d0-c113c537545b",
   "metadata": {},
   "outputs": [
    {
     "data": {
      "text/plain": [
       "'string'"
      ]
     },
     "execution_count": 4,
     "metadata": {},
     "output_type": "execute_result"
    }
   ],
   "source": [
    "my_list[0]"
   ]
  },
  {
   "cell_type": "code",
   "execution_count": 5,
   "id": "c8ef82ab-1160-4b79-b2e1-abdf971dd9ae",
   "metadata": {},
   "outputs": [
    {
     "ename": "NameError",
     "evalue": "name 'mylist' is not defined",
     "output_type": "error",
     "traceback": [
      "\u001b[1;31m---------------------------------------------------------------------------\u001b[0m",
      "\u001b[1;31mNameError\u001b[0m                                 Traceback (most recent call last)",
      "Cell \u001b[1;32mIn[5], line 1\u001b[0m\n\u001b[1;32m----> 1\u001b[0m mylist[\u001b[38;5;241m1\u001b[39m:]\n",
      "\u001b[1;31mNameError\u001b[0m: name 'mylist' is not defined"
     ]
    }
   ],
   "source": [
    "mylist[1:]"
   ]
  },
  {
   "cell_type": "code",
   "execution_count": 6,
   "id": "fa667873-d644-4dba-9368-16b89b2f9438",
   "metadata": {},
   "outputs": [],
   "source": [
    "mylist = ['one','two','three']"
   ]
  },
  {
   "cell_type": "code",
   "execution_count": 7,
   "id": "30eb8273-d5bb-45de-8c9f-5be3d5d25de4",
   "metadata": {},
   "outputs": [
    {
     "data": {
      "text/plain": [
       "'one'"
      ]
     },
     "execution_count": 7,
     "metadata": {},
     "output_type": "execute_result"
    }
   ],
   "source": [
    "mylist[0]"
   ]
  },
  {
   "cell_type": "code",
   "execution_count": 8,
   "id": "668cc87c-fa30-4028-9eb0-1b2e01f0d6d9",
   "metadata": {},
   "outputs": [
    {
     "data": {
      "text/plain": [
       "['two', 'three']"
      ]
     },
     "execution_count": 8,
     "metadata": {},
     "output_type": "execute_result"
    }
   ],
   "source": [
    "mylist[1:]"
   ]
  },
  {
   "cell_type": "code",
   "execution_count": 9,
   "id": "62b1ccba-ffda-4bc7-a6e3-d99460bdace4",
   "metadata": {},
   "outputs": [],
   "source": [
    "another_mylist = ['four','five']"
   ]
  },
  {
   "cell_type": "code",
   "execution_count": 10,
   "id": "f7ee7772-84dc-481d-9d8f-1da59b7aeea1",
   "metadata": {},
   "outputs": [],
   "source": [
    "new_list = another_mylist + mylist"
   ]
  },
  {
   "cell_type": "code",
   "execution_count": 14,
   "id": "adb07147-ae89-4ae1-80c4-3efba399b5c6",
   "metadata": {},
   "outputs": [],
   "source": [
    "new_list = mylist + another_mylist"
   ]
  },
  {
   "cell_type": "code",
   "execution_count": 15,
   "id": "70beca47-b1e1-4d6b-9458-fc1eb6fff0b8",
   "metadata": {},
   "outputs": [
    {
     "data": {
      "text/plain": [
       "['one', 'two', 'three', 'four', 'five']"
      ]
     },
     "execution_count": 15,
     "metadata": {},
     "output_type": "execute_result"
    }
   ],
   "source": [
    "new_list"
   ]
  },
  {
   "cell_type": "code",
   "execution_count": 16,
   "id": "66ca5a89-a032-4890-91aa-9bac660b98e2",
   "metadata": {},
   "outputs": [
    {
     "data": {
      "text/plain": [
       "'two'"
      ]
     },
     "execution_count": 16,
     "metadata": {},
     "output_type": "execute_result"
    }
   ],
   "source": [
    "new_list[1]"
   ]
  },
  {
   "cell_type": "code",
   "execution_count": 17,
   "id": "37897231-fbfb-42c7-992e-22a7b013cbca",
   "metadata": {},
   "outputs": [
    {
     "data": {
      "text/plain": [
       "['two', 'three', 'four', 'five']"
      ]
     },
     "execution_count": 17,
     "metadata": {},
     "output_type": "execute_result"
    }
   ],
   "source": [
    "new_list[1:]"
   ]
  },
  {
   "cell_type": "code",
   "execution_count": 18,
   "id": "828ffd54-fe9d-4b0b-babb-9ddac9ea8d0f",
   "metadata": {},
   "outputs": [],
   "source": [
    "new_list.append('six')"
   ]
  },
  {
   "cell_type": "code",
   "execution_count": 19,
   "id": "c16ac3ca-4c7c-4e24-8d06-950ae83d7060",
   "metadata": {},
   "outputs": [
    {
     "data": {
      "text/plain": [
       "['one', 'two', 'three', 'four', 'five', 'six']"
      ]
     },
     "execution_count": 19,
     "metadata": {},
     "output_type": "execute_result"
    }
   ],
   "source": [
    "new_list"
   ]
  },
  {
   "cell_type": "code",
   "execution_count": 20,
   "id": "e649a2f9-66c1-4e39-9360-e4e7e1c701c5",
   "metadata": {},
   "outputs": [],
   "source": [
    "new_list.append('seven')"
   ]
  },
  {
   "cell_type": "code",
   "execution_count": 21,
   "id": "a4c8f882-da3e-4746-a459-2ba1671a791f",
   "metadata": {},
   "outputs": [
    {
     "data": {
      "text/plain": [
       "['one', 'two', 'three', 'four', 'five', 'six', 'seven']"
      ]
     },
     "execution_count": 21,
     "metadata": {},
     "output_type": "execute_result"
    }
   ],
   "source": [
    "new_list"
   ]
  },
  {
   "cell_type": "code",
   "execution_count": 22,
   "id": "b76edead-870e-48ee-b419-656e3c0d1099",
   "metadata": {},
   "outputs": [
    {
     "data": {
      "text/plain": [
       "'seven'"
      ]
     },
     "execution_count": 22,
     "metadata": {},
     "output_type": "execute_result"
    }
   ],
   "source": [
    "new_list.pop()                                       delete the last iteam "
   ]
  },
  {
   "cell_type": "code",
   "execution_count": 23,
   "id": "c299c9f1-14c3-4a9f-8db1-e523bc217a01",
   "metadata": {},
   "outputs": [
    {
     "data": {
      "text/plain": [
       "['one', 'two', 'three', 'four', 'five', 'six']"
      ]
     },
     "execution_count": 23,
     "metadata": {},
     "output_type": "execute_result"
    }
   ],
   "source": [
    "new_list"
   ]
  },
  {
   "cell_type": "code",
   "execution_count": 24,
   "id": "4e436ef6-a8fb-4a70-8a1c-97589b9052ee",
   "metadata": {},
   "outputs": [
    {
     "data": {
      "text/plain": [
       "'six'"
      ]
     },
     "execution_count": 24,
     "metadata": {},
     "output_type": "execute_result"
    }
   ],
   "source": [
    "new_list.pop()"
   ]
  },
  {
   "cell_type": "code",
   "execution_count": 25,
   "id": "a264bc23-775b-4ae8-9bf0-39a98fe20dc7",
   "metadata": {},
   "outputs": [
    {
     "data": {
      "text/plain": [
       "['one', 'two', 'three', 'four', 'five']"
      ]
     },
     "execution_count": 25,
     "metadata": {},
     "output_type": "execute_result"
    }
   ],
   "source": [
    "new_list"
   ]
  },
  {
   "cell_type": "code",
   "execution_count": 26,
   "id": "27a98a2f-0fb1-4a07-bb6b-61fd415f7a5c",
   "metadata": {},
   "outputs": [],
   "source": [
    "new_list = ['a','e','x','b','c']\n",
    "num_list = [4,1,8,3]"
   ]
  },
  {
   "cell_type": "code",
   "execution_count": 27,
   "id": "ec964bfb-e499-4f48-830b-a36bc423c319",
   "metadata": {},
   "outputs": [],
   "source": [
    "new_list.sort()                                          arrange in order"
   ]
  },
  {
   "cell_type": "code",
   "execution_count": 29,
   "id": "b7ef7264-4258-4c34-82e7-930f131edff2",
   "metadata": {},
   "outputs": [
    {
     "data": {
      "text/plain": [
       "['a', 'b', 'c', 'e', 'x']"
      ]
     },
     "execution_count": 29,
     "metadata": {},
     "output_type": "execute_result"
    }
   ],
   "source": [
    "new_list"
   ]
  },
  {
   "cell_type": "markdown",
   "id": "df1775a0-1d3a-445f-ad17-31db44aa8b7f",
   "metadata": {},
   "source": []
  },
  {
   "cell_type": "code",
   "execution_count": 31,
   "id": "208d1997-98cd-42b6-b2fd-d4f8de39c379",
   "metadata": {},
   "outputs": [],
   "source": [
    "num_list.sort()"
   ]
  },
  {
   "cell_type": "code",
   "execution_count": 32,
   "id": "114a4e68-4a46-4abe-aafd-3d0c78e3fc6b",
   "metadata": {},
   "outputs": [
    {
     "data": {
      "text/plain": [
       "[1, 3, 4, 8]"
      ]
     },
     "execution_count": 32,
     "metadata": {},
     "output_type": "execute_result"
    }
   ],
   "source": [
    "num_list"
   ]
  },
  {
   "cell_type": "code",
   "execution_count": 33,
   "id": "2d7dc7ac-4ac6-4441-b891-829745b70107",
   "metadata": {},
   "outputs": [],
   "source": [
    "num_list.reverse()                                          reverse order "
   ]
  },
  {
   "cell_type": "code",
   "execution_count": 34,
   "id": "cb40745b-0338-49d7-bc52-ad0fc59722d4",
   "metadata": {},
   "outputs": [
    {
     "data": {
      "text/plain": [
       "[8, 4, 3, 1]"
      ]
     },
     "execution_count": 34,
     "metadata": {},
     "output_type": "execute_result"
    }
   ],
   "source": [
    "num_list"
   ]
  },
  {
   "cell_type": "code",
   "execution_count": 35,
   "id": "5b036bd7-a7e9-45ce-991b-98f4649e1cb5",
   "metadata": {},
   "outputs": [
    {
     "ename": "NameError",
     "evalue": "name 'dictionary' is not defined",
     "output_type": "error",
     "traceback": [
      "\u001b[1;31m---------------------------------------------------------------------------\u001b[0m",
      "\u001b[1;31mNameError\u001b[0m                                 Traceback (most recent call last)",
      "Cell \u001b[1;32mIn[35], line 1\u001b[0m\n\u001b[1;32m----> 1\u001b[0m dictionary\n",
      "\u001b[1;31mNameError\u001b[0m: name 'dictionary' is not defined"
     ]
    }
   ],
   "source": [
    "                             dictionary"
   ]
  },
  {
   "cell_type": "code",
   "execution_count": 38,
   "id": "1b78d6dd-5d2b-4fbb-8302-ed0a3e731ad7",
   "metadata": {},
   "outputs": [],
   "source": [
    "my_dict = {'key1':'value1','key2':'value2'}"
   ]
  },
  {
   "cell_type": "code",
   "execution_count": 39,
   "id": "1f4e2155-e5f8-4740-a5ae-be9987ddc92c",
   "metadata": {},
   "outputs": [
    {
     "data": {
      "text/plain": [
       "{'key1': 'value1', 'key2': 'value2'}"
      ]
     },
     "execution_count": 39,
     "metadata": {},
     "output_type": "execute_result"
    }
   ],
   "source": [
    "my_dict"
   ]
  },
  {
   "cell_type": "code",
   "execution_count": 41,
   "id": "7953827a-81db-4f2d-b49e-84aefbc3a896",
   "metadata": {},
   "outputs": [
    {
     "data": {
      "text/plain": [
       "'value1'"
      ]
     },
     "execution_count": 41,
     "metadata": {},
     "output_type": "execute_result"
    }
   ],
   "source": [
    "my_dict['key1']"
   ]
  },
  {
   "cell_type": "code",
   "execution_count": 42,
   "id": "aa5d8b0e-d11c-4cf7-ae45-aa5c3c31aab3",
   "metadata": {},
   "outputs": [],
   "source": [
    "prices_lookup = {'apple':2.34,'gem':5.89}"
   ]
  },
  {
   "cell_type": "code",
   "execution_count": 43,
   "id": "ec70e59f-1f2a-459d-beff-d70f84f61821",
   "metadata": {},
   "outputs": [
    {
     "data": {
      "text/plain": [
       "2.34"
      ]
     },
     "execution_count": 43,
     "metadata": {},
     "output_type": "execute_result"
    }
   ],
   "source": [
    "prices_lookup['apple']"
   ]
  },
  {
   "cell_type": "code",
   "execution_count": 49,
   "id": "82c85ae9-3ab3-4a4a-a454-6de4590857d5",
   "metadata": {},
   "outputs": [],
   "source": [
    "d = {'k1':123,'k2':[567,876,890],'k3':('my name')}"
   ]
  },
  {
   "cell_type": "code",
   "execution_count": 50,
   "id": "58321608-4e29-42f8-882d-43a14e8a93b9",
   "metadata": {},
   "outputs": [
    {
     "data": {
      "text/plain": [
       "'my name'"
      ]
     },
     "execution_count": 50,
     "metadata": {},
     "output_type": "execute_result"
    }
   ],
   "source": [
    "d['k3']"
   ]
  },
  {
   "cell_type": "code",
   "execution_count": 47,
   "id": "d1118f49-2b95-4b76-b550-2afa141c2a12",
   "metadata": {},
   "outputs": [
    {
     "data": {
      "text/plain": [
       "[567, 876, 890]"
      ]
     },
     "execution_count": 47,
     "metadata": {},
     "output_type": "execute_result"
    }
   ],
   "source": [
    "d['k2']"
   ]
  },
  {
   "cell_type": "code",
   "execution_count": 52,
   "id": "7ceba2f2-f57c-4e13-9eda-624596e3d946",
   "metadata": {},
   "outputs": [
    {
     "ename": "NameError",
     "evalue": "name 'TRUPLES' is not defined",
     "output_type": "error",
     "traceback": [
      "\u001b[1;31m---------------------------------------------------------------------------\u001b[0m",
      "\u001b[1;31mNameError\u001b[0m                                 Traceback (most recent call last)",
      "Cell \u001b[1;32mIn[52], line 1\u001b[0m\n\u001b[1;32m----> 1\u001b[0m TRUPLES\n",
      "\u001b[1;31mNameError\u001b[0m: name 'TRUPLES' is not defined"
     ]
    }
   ],
   "source": [
    "                       TUPLES - IMMUTABILBILITY"
   ]
  },
  {
   "cell_type": "code",
   "execution_count": 53,
   "id": "8a33a33a-6627-4b86-8058-963aa3d7fe75",
   "metadata": {},
   "outputs": [],
   "source": [
    "t = (1,2,3)"
   ]
  },
  {
   "cell_type": "code",
   "execution_count": 54,
   "id": "45d60bff-5068-4d4a-973f-6952ea9b20ef",
   "metadata": {},
   "outputs": [],
   "source": [
    "mylist = [1,2,3]"
   ]
  },
  {
   "cell_type": "code",
   "execution_count": 55,
   "id": "14a6fd7e-200f-45ac-b695-48e9ff474048",
   "metadata": {},
   "outputs": [
    {
     "data": {
      "text/plain": [
       "tuple"
      ]
     },
     "execution_count": 55,
     "metadata": {},
     "output_type": "execute_result"
    }
   ],
   "source": [
    "type(t)"
   ]
  },
  {
   "cell_type": "code",
   "execution_count": 56,
   "id": "1097a6cd-fefb-43cb-87d3-12f766282b71",
   "metadata": {},
   "outputs": [
    {
     "data": {
      "text/plain": [
       "list"
      ]
     },
     "execution_count": 56,
     "metadata": {},
     "output_type": "execute_result"
    }
   ],
   "source": [
    "type(mylist)"
   ]
  },
  {
   "cell_type": "code",
   "execution_count": 57,
   "id": "9a6f1763-3479-4f87-b964-e48491a10e3c",
   "metadata": {},
   "outputs": [],
   "source": [
    "t =('one',2)"
   ]
  },
  {
   "cell_type": "code",
   "execution_count": 58,
   "id": "e915f1e0-6494-4617-b490-c98aff234d07",
   "metadata": {},
   "outputs": [
    {
     "data": {
      "text/plain": [
       "'one'"
      ]
     },
     "execution_count": 58,
     "metadata": {},
     "output_type": "execute_result"
    }
   ],
   "source": [
    "t[0]"
   ]
  },
  {
   "cell_type": "code",
   "execution_count": 59,
   "id": "46e18882-7827-4d9c-b917-2a00be0d6fce",
   "metadata": {},
   "outputs": [
    {
     "data": {
      "text/plain": [
       "2"
      ]
     },
     "execution_count": 59,
     "metadata": {},
     "output_type": "execute_result"
    }
   ],
   "source": [
    "t[-1]"
   ]
  },
  {
   "cell_type": "code",
   "execution_count": 60,
   "id": "7aca6cee-bbd7-43c0-b7dc-bacba8b8f221",
   "metadata": {},
   "outputs": [],
   "source": [
    "t = ('a','a','b')"
   ]
  },
  {
   "cell_type": "code",
   "execution_count": 62,
   "id": "b21d5294-92a4-403b-a3cb-db74cdd1d18f",
   "metadata": {},
   "outputs": [
    {
     "data": {
      "text/plain": [
       "2"
      ]
     },
     "execution_count": 62,
     "metadata": {},
     "output_type": "execute_result"
    }
   ],
   "source": [
    "t.count('a')"
   ]
  },
  {
   "cell_type": "code",
   "execution_count": 63,
   "id": "1b7e8243-3c21-4da8-bb24-b4996ea73c7a",
   "metadata": {},
   "outputs": [
    {
     "data": {
      "text/plain": [
       "0"
      ]
     },
     "execution_count": 63,
     "metadata": {},
     "output_type": "execute_result"
    }
   ],
   "source": [
    "t.index('a')                    PAY ATTENTION"
   ]
  },
  {
   "cell_type": "code",
   "execution_count": 64,
   "id": "1ba863b0-63fa-4cb8-bb80-b3be780da601",
   "metadata": {},
   "outputs": [
    {
     "data": {
      "text/plain": [
       "2"
      ]
     },
     "execution_count": 64,
     "metadata": {},
     "output_type": "execute_result"
    }
   ],
   "source": [
    "t.index('b')"
   ]
  },
  {
   "cell_type": "code",
   "execution_count": 65,
   "id": "230266f4-acae-4df2-a0d2-4a45e5a5f6fc",
   "metadata": {},
   "outputs": [
    {
     "ename": "NameError",
     "evalue": "name 'SETS' is not defined",
     "output_type": "error",
     "traceback": [
      "\u001b[1;31m---------------------------------------------------------------------------\u001b[0m",
      "\u001b[1;31mNameError\u001b[0m                                 Traceback (most recent call last)",
      "Cell \u001b[1;32mIn[65], line 1\u001b[0m\n\u001b[1;32m----> 1\u001b[0m SETS\n",
      "\u001b[1;31mNameError\u001b[0m: name 'SETS' is not defined"
     ]
    }
   ],
   "source": [
    "                         SETS "
   ]
  },
  {
   "cell_type": "code",
   "execution_count": 1,
   "id": "454941f9-15f0-452a-bd67-f59317cc9838",
   "metadata": {},
   "outputs": [],
   "source": [
    "myset = set()"
   ]
  },
  {
   "cell_type": "code",
   "execution_count": 2,
   "id": "8fd3b7a5-1662-47d5-93b0-15a4b249053b",
   "metadata": {},
   "outputs": [
    {
     "data": {
      "text/plain": [
       "set()"
      ]
     },
     "execution_count": 2,
     "metadata": {},
     "output_type": "execute_result"
    }
   ],
   "source": [
    "myset"
   ]
  },
  {
   "cell_type": "code",
   "execution_count": 3,
   "id": "d69fdfbb-4073-434f-8e76-f0e338705d00",
   "metadata": {},
   "outputs": [],
   "source": [
    "myset.add(1)"
   ]
  },
  {
   "cell_type": "code",
   "execution_count": 4,
   "id": "863934f6-2423-43ce-8730-0dda052e7e58",
   "metadata": {},
   "outputs": [
    {
     "data": {
      "text/plain": [
       "{1}"
      ]
     },
     "execution_count": 4,
     "metadata": {},
     "output_type": "execute_result"
    }
   ],
   "source": [
    "myset"
   ]
  },
  {
   "cell_type": "code",
   "execution_count": 5,
   "id": "d0f299cf-126e-4010-8b75-caeeb0a8c9ce",
   "metadata": {},
   "outputs": [],
   "source": [
    "myset.add(2)"
   ]
  },
  {
   "cell_type": "code",
   "execution_count": 7,
   "id": "a4edef53-86ed-4cd0-8a30-02cc592cc6d8",
   "metadata": {},
   "outputs": [
    {
     "data": {
      "text/plain": [
       "{1, 2}"
      ]
     },
     "execution_count": 7,
     "metadata": {},
     "output_type": "execute_result"
    }
   ],
   "source": [
    "myset\n"
   ]
  },
  {
   "cell_type": "code",
   "execution_count": 8,
   "id": "fc30e435-8fa8-4a75-9467-5ea158fbf5c1",
   "metadata": {},
   "outputs": [],
   "source": [
    "mylist = [1,1,1,1,2,2,2,2,3,3,3]"
   ]
  },
  {
   "cell_type": "code",
   "execution_count": 9,
   "id": "e5bee592-fa02-4f5d-b596-248b557d62a2",
   "metadata": {},
   "outputs": [
    {
     "data": {
      "text/plain": [
       "{1, 2, 3}"
      ]
     },
     "execution_count": 9,
     "metadata": {},
     "output_type": "execute_result"
    }
   ],
   "source": [
    "set(mylist)"
   ]
  },
  {
   "cell_type": "code",
   "execution_count": 11,
   "id": "ee95e809-95da-42f5-9dea-b760ddf783e0",
   "metadata": {},
   "outputs": [
    {
     "ename": "NameError",
     "evalue": "name 'BOOLEANS' is not defined",
     "output_type": "error",
     "traceback": [
      "\u001b[1;31m---------------------------------------------------------------------------\u001b[0m",
      "\u001b[1;31mNameError\u001b[0m                                 Traceback (most recent call last)",
      "Cell \u001b[1;32mIn[11], line 1\u001b[0m\n\u001b[1;32m----> 1\u001b[0m BOOLEANS\n",
      "\u001b[1;31mNameError\u001b[0m: name 'BOOLEANS' is not defined"
     ]
    }
   ],
   "source": [
    "                             BOOLEANS : TRUE AND FALSE"
   ]
  },
  {
   "cell_type": "code",
   "execution_count": 13,
   "id": "9fb4a902-9638-4676-9670-247f808ec6e7",
   "metadata": {},
   "outputs": [
    {
     "data": {
      "text/plain": [
       "True"
      ]
     },
     "execution_count": 13,
     "metadata": {},
     "output_type": "execute_result"
    }
   ],
   "source": [
    "True"
   ]
  },
  {
   "cell_type": "code",
   "execution_count": 14,
   "id": "d346b4e9-081e-4ad1-a624-8088c61b2a65",
   "metadata": {},
   "outputs": [
    {
     "data": {
      "text/plain": [
       "False"
      ]
     },
     "execution_count": 14,
     "metadata": {},
     "output_type": "execute_result"
    }
   ],
   "source": [
    "False"
   ]
  },
  {
   "cell_type": "code",
   "execution_count": 16,
   "id": "f213bd3c-397e-4aeb-87c0-1c6130db4cb7",
   "metadata": {},
   "outputs": [
    {
     "data": {
      "text/plain": [
       "bool"
      ]
     },
     "execution_count": 16,
     "metadata": {},
     "output_type": "execute_result"
    }
   ],
   "source": [
    "type(True)"
   ]
  },
  {
   "cell_type": "code",
   "execution_count": 17,
   "id": "19b9795b-95d6-4f12-967c-4d66f92ae4b2",
   "metadata": {},
   "outputs": [
    {
     "data": {
      "text/plain": [
       "False"
      ]
     },
     "execution_count": 17,
     "metadata": {},
     "output_type": "execute_result"
    }
   ],
   "source": [
    "1>2"
   ]
  },
  {
   "cell_type": "code",
   "execution_count": 18,
   "id": "24c64202-b42d-4140-8e0b-dc0e1a260ff4",
   "metadata": {},
   "outputs": [
    {
     "data": {
      "text/plain": [
       "True"
      ]
     },
     "execution_count": 18,
     "metadata": {},
     "output_type": "execute_result"
    }
   ],
   "source": [
    "2>1"
   ]
  },
  {
   "cell_type": "code",
   "execution_count": 19,
   "id": "58e39a3c-099c-49e2-b338-5013a52d7037",
   "metadata": {},
   "outputs": [
    {
     "data": {
      "text/plain": [
       "True"
      ]
     },
     "execution_count": 19,
     "metadata": {},
     "output_type": "execute_result"
    }
   ],
   "source": [
    "1 == 1"
   ]
  },
  {
   "cell_type": "code",
   "execution_count": 20,
   "id": "4277ca8f-445a-475f-816d-cb18d53dec89",
   "metadata": {},
   "outputs": [
    {
     "data": {
      "text/plain": [
       "True"
      ]
     },
     "execution_count": 20,
     "metadata": {},
     "output_type": "execute_result"
    }
   ],
   "source": [
    "22 == 22"
   ]
  },
  {
   "cell_type": "code",
   "execution_count": null,
   "id": "7439878c-bd08-456d-9fd9-e1588dba9f39",
   "metadata": {},
   "outputs": [],
   "source": [
    "b = none"
   ]
  },
  {
   "cell_type": "code",
   "execution_count": 25,
   "id": "60bd3e6c-57bf-4c81-a3f5-63aef27b26ce",
   "metadata": {},
   "outputs": [
    {
     "ename": "NameError",
     "evalue": "name 'b' is not defined",
     "output_type": "error",
     "traceback": [
      "\u001b[1;31m---------------------------------------------------------------------------\u001b[0m",
      "\u001b[1;31mNameError\u001b[0m                                 Traceback (most recent call last)",
      "Cell \u001b[1;32mIn[25], line 1\u001b[0m\n\u001b[1;32m----> 1\u001b[0m b\n",
      "\u001b[1;31mNameError\u001b[0m: name 'b' is not defined"
     ]
    }
   ],
   "source": [
    "b"
   ]
  },
  {
   "cell_type": "code",
   "execution_count": 26,
   "id": "dd040f6c-13f0-46f4-ad1d-f48e60a60607",
   "metadata": {},
   "outputs": [],
   "source": [
    "b = 2.438\n",
    "c = 5.780"
   ]
  },
  {
   "cell_type": "code",
   "execution_count": 27,
   "id": "31439d6c-1a2a-4552-98cd-1c9c7590180c",
   "metadata": {},
   "outputs": [
    {
     "name": "stdout",
     "output_type": "stream",
     "text": [
      "172.60556486424136\n"
     ]
    }
   ],
   "source": [
    "print(b**c)"
   ]
  },
  {
   "cell_type": "code",
   "execution_count": 28,
   "id": "46de9f1b-199c-44cb-bfb7-f3587cca0761",
   "metadata": {},
   "outputs": [
    {
     "ename": "SyntaxError",
     "evalue": "invalid syntax (2502215189.py, line 1)",
     "output_type": "error",
     "traceback": [
      "\u001b[1;36m  Cell \u001b[1;32mIn[28], line 1\u001b[1;36m\u001b[0m\n\u001b[1;33m    BASIC FILES\u001b[0m\n\u001b[1;37m          ^\u001b[0m\n\u001b[1;31mSyntaxError\u001b[0m\u001b[1;31m:\u001b[0m invalid syntax\n"
     ]
    }
   ],
   "source": [
    "                                        BASIC FILES IMPORTANT PAY ATTENTION!"
   ]
  },
  {
   "cell_type": "code",
   "execution_count": 29,
   "id": "12583d03-dfaa-42d4-9f9e-d12a3a506494",
   "metadata": {},
   "outputs": [
    {
     "name": "stdout",
     "output_type": "stream",
     "text": [
      "Writing myfile.text\n"
     ]
    }
   ],
   "source": [
    "%%writefile myfile.text\n",
    "hello this the text file\n",
    "this is me\n",
    "this is you"
   ]
  },
  {
   "cell_type": "markdown",
   "id": "464b0a8e-5778-4391-bd6f-4eb1e2176a57",
   "metadata": {},
   "source": [
    "myfile = open('myfile.text')"
   ]
  },
  {
   "cell_type": "markdown",
   "id": "ea80b302-068e-4e80-968a-3ef6e2a41f0f",
   "metadata": {},
   "source": [
    "myfile = open('whoops_wrong.text')"
   ]
  },
  {
   "cell_type": "code",
   "execution_count": 30,
   "id": "dfd82933-b55d-46da-ad45-3d30f2cc2ee0",
   "metadata": {},
   "outputs": [
    {
     "ename": "FileNotFoundError",
     "evalue": "[Errno 2] No such file or directory: 'whoops_wrong.text'",
     "output_type": "error",
     "traceback": [
      "\u001b[1;31m---------------------------------------------------------------------------\u001b[0m",
      "\u001b[1;31mFileNotFoundError\u001b[0m                         Traceback (most recent call last)",
      "Cell \u001b[1;32mIn[30], line 1\u001b[0m\n\u001b[1;32m----> 1\u001b[0m myfile \u001b[38;5;241m=\u001b[39m \u001b[38;5;28mopen\u001b[39m(\u001b[38;5;124m'\u001b[39m\u001b[38;5;124mwhoops_wrong.text\u001b[39m\u001b[38;5;124m'\u001b[39m)\n",
      "File \u001b[1;32m~\\anaconda3\\Lib\\site-packages\\IPython\\core\\interactiveshell.py:324\u001b[0m, in \u001b[0;36m_modified_open\u001b[1;34m(file, *args, **kwargs)\u001b[0m\n\u001b[0;32m    317\u001b[0m \u001b[38;5;28;01mif\u001b[39;00m file \u001b[38;5;129;01min\u001b[39;00m {\u001b[38;5;241m0\u001b[39m, \u001b[38;5;241m1\u001b[39m, \u001b[38;5;241m2\u001b[39m}:\n\u001b[0;32m    318\u001b[0m     \u001b[38;5;28;01mraise\u001b[39;00m \u001b[38;5;167;01mValueError\u001b[39;00m(\n\u001b[0;32m    319\u001b[0m         \u001b[38;5;124mf\u001b[39m\u001b[38;5;124m\"\u001b[39m\u001b[38;5;124mIPython won\u001b[39m\u001b[38;5;124m'\u001b[39m\u001b[38;5;124mt let you open fd=\u001b[39m\u001b[38;5;132;01m{\u001b[39;00mfile\u001b[38;5;132;01m}\u001b[39;00m\u001b[38;5;124m by default \u001b[39m\u001b[38;5;124m\"\u001b[39m\n\u001b[0;32m    320\u001b[0m         \u001b[38;5;124m\"\u001b[39m\u001b[38;5;124mas it is likely to crash IPython. If you know what you are doing, \u001b[39m\u001b[38;5;124m\"\u001b[39m\n\u001b[0;32m    321\u001b[0m         \u001b[38;5;124m\"\u001b[39m\u001b[38;5;124myou can use builtins\u001b[39m\u001b[38;5;124m'\u001b[39m\u001b[38;5;124m open.\u001b[39m\u001b[38;5;124m\"\u001b[39m\n\u001b[0;32m    322\u001b[0m     )\n\u001b[1;32m--> 324\u001b[0m \u001b[38;5;28;01mreturn\u001b[39;00m io_open(file, \u001b[38;5;241m*\u001b[39margs, \u001b[38;5;241m*\u001b[39m\u001b[38;5;241m*\u001b[39mkwargs)\n",
      "\u001b[1;31mFileNotFoundError\u001b[0m: [Errno 2] No such file or directory: 'whoops_wrong.text'"
     ]
    }
   ],
   "source": [
    "myfile = open('whoops_wrong.text')"
   ]
  },
  {
   "cell_type": "code",
   "execution_count": 31,
   "id": "8d7fbb8e-7105-4ae9-be8d-3c0fc2c1a6eb",
   "metadata": {},
   "outputs": [
    {
     "data": {
      "text/plain": [
       "'C:\\\\Users\\\\ASUS'"
      ]
     },
     "execution_count": 31,
     "metadata": {},
     "output_type": "execute_result"
    }
   ],
   "source": [
    "pwd"
   ]
  },
  {
   "cell_type": "code",
   "execution_count": 32,
   "id": "b777dcf5-eabc-4e99-9a28-08514ef55b05",
   "metadata": {},
   "outputs": [],
   "source": [
    "myfile = open('myfile.text')"
   ]
  },
  {
   "cell_type": "code",
   "execution_count": 33,
   "id": "8cbaf2bf-6e14-476a-beec-5e08f597dfcf",
   "metadata": {},
   "outputs": [
    {
     "data": {
      "text/plain": [
       "'hello this the text file\\nthis is me\\nthis is you\\n'"
      ]
     },
     "execution_count": 33,
     "metadata": {},
     "output_type": "execute_result"
    }
   ],
   "source": [
    "myfile.read()"
   ]
  },
  {
   "cell_type": "code",
   "execution_count": 34,
   "id": "b46a08c2-7624-41fc-808b-9eb27e6b48c2",
   "metadata": {},
   "outputs": [
    {
     "data": {
      "text/plain": [
       "''"
      ]
     },
     "execution_count": 34,
     "metadata": {},
     "output_type": "execute_result"
    }
   ],
   "source": [
    "myfile.read()"
   ]
  },
  {
   "cell_type": "code",
   "execution_count": 36,
   "id": "ef17ae2a-120b-4f8b-9411-bca788958e49",
   "metadata": {},
   "outputs": [
    {
     "data": {
      "text/plain": [
       "0"
      ]
     },
     "execution_count": 36,
     "metadata": {},
     "output_type": "execute_result"
    }
   ],
   "source": [
    "myfile.seek(0)"
   ]
  },
  {
   "cell_type": "code",
   "execution_count": 37,
   "id": "c589d6de-8b00-4556-b5b9-6d5278a510df",
   "metadata": {},
   "outputs": [
    {
     "data": {
      "text/plain": [
       "'hello this the text file\\n'"
      ]
     },
     "execution_count": 37,
     "metadata": {},
     "output_type": "execute_result"
    }
   ],
   "source": [
    "myfile.readline()"
   ]
  },
  {
   "cell_type": "code",
   "execution_count": null,
   "id": "3b8d64d2-6be4-44fe-b35a-7edd31183106",
   "metadata": {},
   "outputs": [],
   "source": [
    "                    GOING ON............."
   ]
  },
  {
   "cell_type": "code",
   "execution_count": null,
   "id": "5e33fda8-752c-4840-aa57-963f2adbcc19",
   "metadata": {},
   "outputs": [],
   "source": []
  },
  {
   "cell_type": "code",
   "execution_count": null,
   "id": "a424bd58-be7f-4c33-bc8f-1420e6ecc181",
   "metadata": {},
   "outputs": [],
   "source": []
  }
 ],
 "metadata": {
  "kernelspec": {
   "display_name": "Python 3",
   "language": "python",
   "name": "python3"
  },
  "language_info": {
   "codemirror_mode": {
    "name": "ipython",
    "version": 3
   },
   "file_extension": ".py",
   "mimetype": "text/x-python",
   "name": "python",
   "nbconvert_exporter": "python",
   "pygments_lexer": "ipython3",
   "version": "3.13.5"
  }
 },
 "nbformat": 4,
 "nbformat_minor": 5
}
