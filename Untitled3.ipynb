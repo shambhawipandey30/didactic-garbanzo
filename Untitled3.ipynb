{
 "cells": [
  {
   "cell_type": "code",
   "execution_count": null,
   "id": "e9851529-25e5-4bca-bc0c-feb483737804",
   "metadata": {},
   "outputs": [],
   "source": [
    "SESSION - 7"
   ]
  },
  {
   "cell_type": "code",
   "execution_count": null,
   "id": "c3495253-a92c-498f-b59f-b8bb3821605d",
   "metadata": {},
   "outputs": [],
   "source": []
  },
  {
   "cell_type": "code",
   "execution_count": null,
   "id": "9518eccf-7b5a-4fd6-82cf-33f28759987d",
   "metadata": {},
   "outputs": [],
   "source": [
    "            DISPLAYING INFORMATION "
   ]
  },
  {
   "cell_type": "code",
   "execution_count": 1,
   "id": "abe13924-bf90-48d9-93af-2f09060b7949",
   "metadata": {},
   "outputs": [
    {
     "name": "stdout",
     "output_type": "stream",
     "text": [
      "[1, 2, 3]\n"
     ]
    }
   ],
   "source": [
    "print([1,2,3])"
   ]
  },
  {
   "cell_type": "code",
   "execution_count": 2,
   "id": "9ec0c63a-1a9c-4192-be47-7593d9301562",
   "metadata": {},
   "outputs": [
    {
     "name": "stdout",
     "output_type": "stream",
     "text": [
      "[1, 2, 3]\n",
      "[4, 5, 6]\n",
      "[7, 8, 9]\n"
     ]
    }
   ],
   "source": [
    "print([1,2,3])\n",
    "print([4,5,6])\n",
    "print([7,8,9])"
   ]
  },
  {
   "cell_type": "code",
   "execution_count": 3,
   "id": "167c67e7-46bd-49f6-90fa-4262690a781a",
   "metadata": {},
   "outputs": [],
   "source": [
    "def display(row1,row2,row3):\n",
    "    print(row1)\n",
    "    print(row2)\n",
    "    print(row3)"
   ]
  },
  {
   "cell_type": "code",
   "execution_count": 4,
   "id": "0efd6963-24b7-4044-8a82-0e0d79d98783",
   "metadata": {},
   "outputs": [],
   "source": [
    "row1 = ['','','']\n",
    "row2 = ['','','']\n",
    "row3 = ['','','']"
   ]
  },
  {
   "cell_type": "code",
   "execution_count": 5,
   "id": "38c4d104-0527-4f17-b49d-db86f57d27ae",
   "metadata": {},
   "outputs": [
    {
     "name": "stdout",
     "output_type": "stream",
     "text": [
      "['', '', '']\n",
      "['', '', '']\n",
      "['', '', '']\n"
     ]
    }
   ],
   "source": [
    "display(row1,row2,row3)"
   ]
  },
  {
   "cell_type": "code",
   "execution_count": 6,
   "id": "019430b9-8efc-46a4-aad1-11912fc9315c",
   "metadata": {},
   "outputs": [],
   "source": [
    "row2[1] = 'x'"
   ]
  },
  {
   "cell_type": "code",
   "execution_count": 7,
   "id": "3d3b3a8c-e8f5-4852-8ccf-9d34936bde60",
   "metadata": {},
   "outputs": [
    {
     "name": "stdout",
     "output_type": "stream",
     "text": [
      "['', '', '']\n",
      "['', 'x', '']\n",
      "['', '', '']\n"
     ]
    }
   ],
   "source": [
    "display(row1,row2,row3)"
   ]
  },
  {
   "cell_type": "code",
   "execution_count": null,
   "id": "4d84fa69-2ec5-428e-b70f-1c078afdf3f7",
   "metadata": {},
   "outputs": [],
   "source": [
    "                       ACCEPTING USER INPUT"
   ]
  },
  {
   "cell_type": "code",
   "execution_count": null,
   "id": "87eb75c3-3b4c-4a34-8392-9901324acf67",
   "metadata": {},
   "outputs": [],
   "source": [
    "2 + 2"
   ]
  },
  {
   "cell_type": "code",
   "execution_count": 1,
   "id": "3ab17bed-0fff-4359-8ace-8c7637a429f3",
   "metadata": {},
   "outputs": [
    {
     "data": {
      "text/plain": [
       "4"
      ]
     },
     "execution_count": 1,
     "metadata": {},
     "output_type": "execute_result"
    }
   ],
   "source": [
    "2 + 2"
   ]
  },
  {
   "cell_type": "code",
   "execution_count": null,
   "id": "75327fc6-3591-42f4-a484-2d78f44c7ba3",
   "metadata": {},
   "outputs": [],
   "source": [
    "     OOP INTRODUCTION"
   ]
  },
  {
   "cell_type": "code",
   "execution_count": null,
   "id": "22383fb6-379e-4760-9afb-26440b54d48c",
   "metadata": {},
   "outputs": [],
   "source": [
    "class NameOfClass():\n",
    "\n",
    "    def_init_(self,param1,param2):\n",
    "       self.param1 = param1\n",
    "       self.param2 = param2"
   ]
  },
  {
   "cell_type": "code",
   "execution_count": null,
   "id": "285f671b-8eac-45e4-b8c9-361700553233",
   "metadata": {},
   "outputs": [],
   "source": [
    "def some_method(self):\n",
    "    #perform some action \n",
    "    print(self.param1)"
   ]
  },
  {
   "cell_type": "code",
   "execution_count": null,
   "id": "824766d7-d0cb-4a24-9f1f-85d362b731fe",
   "metadata": {},
   "outputs": [],
   "source": [
    "     OOP 1 "
   ]
  },
  {
   "cell_type": "code",
   "execution_count": 1,
   "id": "f2c6bb5d-964d-492e-9b21-e4e956d43928",
   "metadata": {},
   "outputs": [],
   "source": [
    "mylist = [1,2,3]"
   ]
  },
  {
   "cell_type": "code",
   "execution_count": 2,
   "id": "12ba7d95-a9e9-4165-a584-cbc53adc6da4",
   "metadata": {},
   "outputs": [],
   "source": [
    "myset = set()"
   ]
  },
  {
   "cell_type": "code",
   "execution_count": 3,
   "id": "6a81ad5e-ffcb-43e2-bff0-0f066d721588",
   "metadata": {},
   "outputs": [
    {
     "data": {
      "text/plain": [
       "set"
      ]
     },
     "execution_count": 3,
     "metadata": {},
     "output_type": "execute_result"
    }
   ],
   "source": [
    "type(myset)"
   ]
  },
  {
   "cell_type": "code",
   "execution_count": 4,
   "id": "82019dfc-8898-4236-97af-f16cd3d2c32b",
   "metadata": {},
   "outputs": [
    {
     "data": {
      "text/plain": [
       "list"
      ]
     },
     "execution_count": 4,
     "metadata": {},
     "output_type": "execute_result"
    }
   ],
   "source": [
    "type(mylist)"
   ]
  },
  {
   "cell_type": "code",
   "execution_count": 5,
   "id": "451cf382-33c3-429a-b89e-b754da82b7b0",
   "metadata": {},
   "outputs": [],
   "source": [
    "class Sample():\n",
    "    pass"
   ]
  },
  {
   "cell_type": "code",
   "execution_count": 7,
   "id": "a8d06cf7-1e9e-40c1-8c8e-484e3b8b8982",
   "metadata": {},
   "outputs": [],
   "source": [
    "my_sample = Sample()"
   ]
  },
  {
   "cell_type": "code",
   "execution_count": 9,
   "id": "e315ddfb-cc4d-4a07-941c-18c8722c61ef",
   "metadata": {},
   "outputs": [
    {
     "data": {
      "text/plain": [
       "__main__.Sample"
      ]
     },
     "execution_count": 9,
     "metadata": {},
     "output_type": "execute_result"
    }
   ],
   "source": [
    "type(my_sample)"
   ]
  },
  {
   "cell_type": "code",
   "execution_count": 20,
   "id": "d93b0430-5a48-426b-acb0-97f01f69b167",
   "metadata": {},
   "outputs": [],
   "source": [
    "class Dog():\n",
    "\n",
    "    def _init_(self,breed,color):\n",
    "\n",
    "        self.breed = breed "
   ]
  },
  {
   "cell_type": "code",
   "execution_count": 21,
   "id": "b32136a0-691b-4914-ba50-c9d6cee70c7a",
   "metadata": {},
   "outputs": [
    {
     "ename": "TypeError",
     "evalue": "Dog() takes no arguments",
     "output_type": "error",
     "traceback": [
      "\u001b[1;31m---------------------------------------------------------------------------\u001b[0m",
      "\u001b[1;31mTypeError\u001b[0m                                 Traceback (most recent call last)",
      "Cell \u001b[1;32mIn[21], line 1\u001b[0m\n\u001b[1;32m----> 1\u001b[0m my_dog \u001b[38;5;241m=\u001b[39m Dog(breed\u001b[38;5;241m=\u001b[39m\u001b[38;5;124m'\u001b[39m\u001b[38;5;124mLab\u001b[39m\u001b[38;5;124m'\u001b[39m)\n",
      "\u001b[1;31mTypeError\u001b[0m: Dog() takes no arguments"
     ]
    }
   ],
   "source": [
    ".my_dog = Dog(breed='Lab')"
   ]
  },
  {
   "cell_type": "code",
   "execution_count": 19,
   "id": "943aed55-1896-417a-ac48-371ddf83c900",
   "metadata": {},
   "outputs": [
    {
     "ename": "NameError",
     "evalue": "name 'my_dog' is not defined",
     "output_type": "error",
     "traceback": [
      "\u001b[1;31m---------------------------------------------------------------------------\u001b[0m",
      "\u001b[1;31mNameError\u001b[0m                                 Traceback (most recent call last)",
      "Cell \u001b[1;32mIn[19], line 1\u001b[0m\n\u001b[1;32m----> 1\u001b[0m \u001b[38;5;28mtype\u001b[39m(my_dog)\n",
      "\u001b[1;31mNameError\u001b[0m: name 'my_dog' is not defined"
     ]
    }
   ],
   "source": [
    "type(my_dog)"
   ]
  },
  {
   "cell_type": "code",
   "execution_count": 1,
   "id": "a9bc5a1b-3879-41ad-b1df-022341187ab9",
   "metadata": {},
   "outputs": [],
   "source": [
    "mylist = [1,2,3]"
   ]
  },
  {
   "cell_type": "code",
   "execution_count": 2,
   "id": "77dd462d-28a7-4698-85a2-7dfe18ce1bfc",
   "metadata": {},
   "outputs": [],
   "source": [
    "myset = set()"
   ]
  },
  {
   "cell_type": "code",
   "execution_count": 3,
   "id": "527af78a-d684-4c2c-aff3-44d0e3f7602f",
   "metadata": {},
   "outputs": [
    {
     "data": {
      "text/plain": [
       "set"
      ]
     },
     "execution_count": 3,
     "metadata": {},
     "output_type": "execute_result"
    }
   ],
   "source": [
    "type(myset)"
   ]
  },
  {
   "cell_type": "code",
   "execution_count": 4,
   "id": "c0396f24-0dc9-43d9-bd41-762cf5247ce3",
   "metadata": {},
   "outputs": [
    {
     "data": {
      "text/plain": [
       "list"
      ]
     },
     "execution_count": 4,
     "metadata": {},
     "output_type": "execute_result"
    }
   ],
   "source": [
    "type(mylist)"
   ]
  },
  {
   "cell_type": "code",
   "execution_count": 6,
   "id": "5214033d-67a0-4a8c-b98a-48b036844772",
   "metadata": {},
   "outputs": [],
   "source": [
    "my_sample = Sample()"
   ]
  },
  {
   "cell_type": "code",
   "execution_count": 7,
   "id": "50bd4193-9e3d-4635-b741-3bf8b3880381",
   "metadata": {},
   "outputs": [
    {
     "data": {
      "text/plain": [
       "__main__.Sample"
      ]
     },
     "execution_count": 7,
     "metadata": {},
     "output_type": "execute_result"
    }
   ],
   "source": [
    "type(my_sample)"
   ]
  },
  {
   "cell_type": "code",
   "execution_count": 22,
   "id": "245da4b7-fead-46c8-9170-fc31e4ee2f7e",
   "metadata": {},
   "outputs": [],
   "source": [
    "class Dog():\n",
    "\n",
    "    def __init__(self,mybreed,color,name,sports):\n",
    "\n",
    "        # Attributes\n",
    "        # We take in the argument\n",
    "        # Assing it using self.attribute_name\n",
    "        self.my_attribute = mybreed\n",
    "        self.color = color        \n",
    "        self.name = name\n",
    "\n",
    "        #Expect boolean True/False\n",
    "        self.sports = sports"
   ]
  },
  {
   "cell_type": "code",
   "execution_count": 23,
   "id": "a1deeff4-466e-48fd-9be2-d169f98a445a",
   "metadata": {},
   "outputs": [],
   "source": [
    "my_dog = Dog(mybreed='Lab',color='Brown',name='Luci',sports='Running')"
   ]
  },
  {
   "cell_type": "code",
   "execution_count": 24,
   "id": "e7170070-6337-4d3a-97ee-2c3145b52f4b",
   "metadata": {},
   "outputs": [
    {
     "data": {
      "text/plain": [
       "__main__.Dog"
      ]
     },
     "execution_count": 24,
     "metadata": {},
     "output_type": "execute_result"
    }
   ],
   "source": [
    "type(my_dog)"
   ]
  },
  {
   "cell_type": "code",
   "execution_count": 25,
   "id": "dc6fd842-824b-482e-9cb9-d252d7d98c51",
   "metadata": {},
   "outputs": [
    {
     "data": {
      "text/plain": [
       "'Lab'"
      ]
     },
     "execution_count": 25,
     "metadata": {},
     "output_type": "execute_result"
    }
   ],
   "source": [
    "my_dog.my_attribute"
   ]
  },
  {
   "cell_type": "code",
   "execution_count": 15,
   "id": "f5e97656-e024-494f-90de-2ef0b8f15953",
   "metadata": {},
   "outputs": [
    {
     "data": {
      "text/plain": [
       "'Brown'"
      ]
     },
     "execution_count": 15,
     "metadata": {},
     "output_type": "execute_result"
    }
   ],
   "source": [
    "my_dog.color"
   ]
  },
  {
   "cell_type": "code",
   "execution_count": 26,
   "id": "295a7cec-6a7d-405f-87f2-2104e645abbe",
   "metadata": {},
   "outputs": [
    {
     "data": {
      "text/plain": [
       "'Running'"
      ]
     },
     "execution_count": 26,
     "metadata": {},
     "output_type": "execute_result"
    }
   ],
   "source": [
    "my_dog.sports"
   ]
  },
  {
   "cell_type": "code",
   "execution_count": 27,
   "id": "96fac084-43d4-43da-a96c-94ef8233fc42",
   "metadata": {},
   "outputs": [
    {
     "data": {
      "text/plain": [
       "'Luci'"
      ]
     },
     "execution_count": 27,
     "metadata": {},
     "output_type": "execute_result"
    }
   ],
   "source": [
    "my_dog.name"
   ]
  },
  {
   "cell_type": "code",
   "execution_count": 22,
   "id": "9c96e99c-7a45-4829-ac71-6040ac3a0fb0",
   "metadata": {},
   "outputs": [],
   "source": [
    "class Dog():\n",
    "\n",
    "    def __init__(self,mybreed,color,name,sports):\n",
    "\n",
    "        # Attributes\n",
    "        # We take in the argument\n",
    "        # Assing it using self.attribute_name\n",
    "        self.my_attribute = mybreed\n",
    "        self.color = color        \n",
    "        self.name = name\n",
    "\n",
    "        #Expect boolean True/False\n",
    "        self.sports = sports"
   ]
  },
  {
   "cell_type": "code",
   "execution_count": 29,
   "id": "6bf252e0-f1ba-4d53-adc5-bae8bf54ac19",
   "metadata": {},
   "outputs": [
    {
     "data": {
      "text/plain": [
       "False"
      ]
     },
     "execution_count": 29,
     "metadata": {},
     "output_type": "execute_result"
    }
   ],
   "source": [
    "my_dog.sports"
   ]
  },
  {
   "cell_type": "code",
   "execution_count": 28,
   "id": "5ad72368-a54c-43d8-9192-bfc325bb1a1c",
   "metadata": {},
   "outputs": [],
   "source": [
    "my_dog = Dog(mybreed='Lab',color='Brown',name='Luci',sports=False)"
   ]
  },
  {
   "cell_type": "code",
   "execution_count": null,
   "id": "de634f88-2f30-40cb-b442-70dfa75346a3",
   "metadata": {},
   "outputs": [],
   "source": [
    "             OOP 2            "
   ]
  },
  {
   "cell_type": "code",
   "execution_count": 49,
   "id": "40d08210-f5f6-479d-9dfd-9ca2db209a0a",
   "metadata": {},
   "outputs": [],
   "source": [
    "class Dog():\n",
    "\n",
    "    # CLASS OBJECT ATTRIBUTE\n",
    "    # SAME FOR ANY INSTANCE OF A CLASS\n",
    "    species = 'mammal'\n",
    "\n",
    "    def __init__(self,breed,color,name,sports):\n",
    "\n",
    "        # Attributes\n",
    "        # We take in the argument\n",
    "        # Assing it using self.attribute_name\n",
    "        self.breed = breed\n",
    "        self.color = color        \n",
    "        self.name = name\n",
    "\n",
    "        #Expect boolean True/False\n",
    "        self.sports = sports\n",
    "\n",
    "    # OPERATIONS/Actions ---> Methods\n",
    "    def bark(self,number):\n",
    "        print(\"WOOF! My name is {} and the number is {}\".format(self.name,number))"
   ]
  },
  {
   "cell_type": "code",
   "execution_count": 50,
   "id": "95b96c59-2030-421c-bf12-7b2a99dfebd8",
   "metadata": {},
   "outputs": [],
   "source": [
    "my_dog = Dog('Lab','pink','Franky',True)"
   ]
  },
  {
   "cell_type": "code",
   "execution_count": 51,
   "id": "b5498052-5807-4d44-a198-acaf87759dfa",
   "metadata": {},
   "outputs": [
    {
     "data": {
      "text/plain": [
       "'mammal'"
      ]
     },
     "execution_count": 51,
     "metadata": {},
     "output_type": "execute_result"
    }
   ],
   "source": [
    "my_dog.species"
   ]
  },
  {
   "cell_type": "code",
   "execution_count": 52,
   "id": "21445141-1b1e-4f51-a068-0bd7b3d81842",
   "metadata": {},
   "outputs": [
    {
     "data": {
      "text/plain": [
       "'Franky'"
      ]
     },
     "execution_count": 52,
     "metadata": {},
     "output_type": "execute_result"
    }
   ],
   "source": [
    "my_dog.name"
   ]
  },
  {
   "cell_type": "code",
   "execution_count": 54,
   "id": "b7e27f8d-1d83-4bdf-a43d-9825c8259933",
   "metadata": {},
   "outputs": [
    {
     "name": "stdout",
     "output_type": "stream",
     "text": [
      "WOOF! My name is Franky and the number is 20\n"
     ]
    }
   ],
   "source": [
    "my_dog.bark(20)"
   ]
  },
  {
   "cell_type": "code",
   "execution_count": null,
   "id": "a39a8cd1-fa12-4f39-9fd1-920cd8f18ceb",
   "metadata": {},
   "outputs": [],
   "source": []
  },
  {
   "cell_type": "code",
   "execution_count": null,
   "id": "293ff691-414a-4566-89bd-144ad71cf6fd",
   "metadata": {},
   "outputs": [],
   "source": []
  },
  {
   "cell_type": "code",
   "execution_count": 69,
   "id": "2176befa-3b46-4da6-95fd-3ce32aa8b473",
   "metadata": {},
   "outputs": [],
   "source": [
    "class Cirle():\n",
    "\n",
    "    # CLASS OBJECT ATTRIBUTE\n",
    "    pi = 3.14\n",
    "\n",
    "    def __init__(self,radius=1):\n",
    "\n",
    "        self.radius = radius\n",
    "        self.area = radius*radius*self.pi\n",
    "\n",
    "    # METHOD\n",
    "    def get_circumference(self):\n",
    "        return self.radius * self.pi * 2\n",
    "        \n",
    "        "
   ]
  },
  {
   "cell_type": "code",
   "execution_count": 70,
   "id": "2bee6175-b285-44fb-886e-9226298686d0",
   "metadata": {},
   "outputs": [
    {
     "ename": "NameError",
     "evalue": "name 'Circle' is not defined",
     "output_type": "error",
     "traceback": [
      "\u001b[1;31m---------------------------------------------------------------------------\u001b[0m",
      "\u001b[1;31mNameError\u001b[0m                                 Traceback (most recent call last)",
      "Cell \u001b[1;32mIn[70], line 1\u001b[0m\n\u001b[1;32m----> 1\u001b[0m my_circle \u001b[38;5;241m=\u001b[39m Circle(\u001b[38;5;241m30\u001b[39m)\n",
      "\u001b[1;31mNameError\u001b[0m: name 'Circle' is not defined"
     ]
    }
   ],
   "source": [
    "my_circle = Circle(30)"
   ]
  },
  {
   "cell_type": "code",
   "execution_count": null,
   "id": "555c0244-aa34-4ac2-a4dc-d74a73efba00",
   "metadata": {},
   "outputs": [],
   "source": [
    "                                          CHATGPT CORRECTION"
   ]
  },
  {
   "cell_type": "code",
   "execution_count": 71,
   "id": "5e18ac02-e960-400c-8368-fc2ae7749666",
   "metadata": {},
   "outputs": [],
   "source": [
    "class Circle:\n",
    "    pi = 3.14\n",
    "\n",
    "    def __init__(self,radius):\n",
    "\n",
    "        self.radius = radius\n",
    "        self.area = radius*radius*self.pi\n",
    "\n",
    "    def get_circumference(self):\n",
    "        return self.radius * self.pi * 2\n",
    "        \n",
    "        "
   ]
  },
  {
   "cell_type": "code",
   "execution_count": 72,
   "id": "f170eb2d-8c37-4dfa-a75f-ae83131c2c6c",
   "metadata": {},
   "outputs": [],
   "source": [
    "my_circle = Circle(30)"
   ]
  },
  {
   "cell_type": "code",
   "execution_count": 73,
   "id": "e6bc29f2-bb0b-4382-a4f1-29bfaffa5885",
   "metadata": {},
   "outputs": [
    {
     "data": {
      "text/plain": [
       "3.14"
      ]
     },
     "execution_count": 73,
     "metadata": {},
     "output_type": "execute_result"
    }
   ],
   "source": [
    "my_circle.pi"
   ]
  },
  {
   "cell_type": "code",
   "execution_count": 74,
   "id": "7e1f95b6-039a-4a12-beda-0846b14ff21d",
   "metadata": {},
   "outputs": [
    {
     "data": {
      "text/plain": [
       "30"
      ]
     },
     "execution_count": 74,
     "metadata": {},
     "output_type": "execute_result"
    }
   ],
   "source": [
    "my_circle.radius"
   ]
  },
  {
   "cell_type": "code",
   "execution_count": 75,
   "id": "61f9dc70-eac9-4c4c-bdf0-e7abd6f84930",
   "metadata": {},
   "outputs": [
    {
     "data": {
      "text/plain": [
       "2826.0"
      ]
     },
     "execution_count": 75,
     "metadata": {},
     "output_type": "execute_result"
    }
   ],
   "source": [
    "my_circle.area"
   ]
  },
  {
   "cell_type": "code",
   "execution_count": null,
   "id": "425c932e-2b25-4688-9f23-83cbee381825",
   "metadata": {},
   "outputs": [],
   "source": [
    "              OOP 3"
   ]
  },
  {
   "cell_type": "code",
   "execution_count": 12,
   "id": "0a0563c4-eff7-40fe-8355-d8340d492622",
   "metadata": {},
   "outputs": [
    {
     "name": "stdin",
     "output_type": "stream",
     "text": [
      "Please enter a number:  8\n"
     ]
    }
   ],
   "source": [
    "result = input(\"Please enter a number: \")"
   ]
  },
  {
   "cell_type": "code",
   "execution_count": 13,
   "id": "5b451be5-85a4-41c0-8cc4-ead971adbce4",
   "metadata": {},
   "outputs": [
    {
     "data": {
      "text/plain": [
       "'8'"
      ]
     },
     "execution_count": 13,
     "metadata": {},
     "output_type": "execute_result"
    }
   ],
   "source": [
    "result\n"
   ]
  },
  {
   "cell_type": "code",
   "execution_count": 11,
   "id": "8d081253-0593-44e3-858a-0f78be57c01f",
   "metadata": {},
   "outputs": [
    {
     "name": "stdout",
     "output_type": "stream",
     "text": [
      "hello world\n"
     ]
    }
   ],
   "source": [
    "print('hello world')"
   ]
  },
  {
   "cell_type": "code",
   "execution_count": null,
   "id": "f36e13eb-94d4-4319-9936-28a470603830",
   "metadata": {},
   "outputs": [],
   "source": []
  }
 ],
 "metadata": {
  "kernelspec": {
   "display_name": "Python [conda env:base] *",
   "language": "python",
   "name": "conda-base-py"
  },
  "language_info": {
   "codemirror_mode": {
    "name": "ipython",
    "version": 3
   },
   "file_extension": ".py",
   "mimetype": "text/x-python",
   "name": "python",
   "nbconvert_exporter": "python",
   "pygments_lexer": "ipython3",
   "version": "3.13.5"
  }
 },
 "nbformat": 4,
 "nbformat_minor": 5
}
